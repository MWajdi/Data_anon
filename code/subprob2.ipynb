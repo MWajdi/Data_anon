{
 "cells": [
  {
   "cell_type": "markdown",
   "metadata": {},
   "source": [
    "## Loading data"
   ]
  },
  {
   "cell_type": "code",
   "execution_count": 115,
   "metadata": {},
   "outputs": [],
   "source": [
    "import numpy as np\n",
    "import matplotlib.pyplot as plt\n",
    "import pandas as pd"
   ]
  },
  {
   "cell_type": "code",
   "execution_count": 116,
   "metadata": {},
   "outputs": [],
   "source": [
    "def load_data(file_path):\n",
    "    columns = ['Word', 'POS', 'Chunk', 'Tag']\n",
    "\n",
    "    with open(file_path, 'r') as file:\n",
    "        rows = []\n",
    "        sentence_index = 1  # Start sentence indexing\n",
    "        for line in file:\n",
    "            if line.startswith('-DOCSTART-') or line.strip() == '':  # Skip doc starts and empty lines\n",
    "                sentence_index += 1\n",
    "                continue\n",
    "            parts = line.strip().split()\n",
    "            parts.append(sentence_index)  # Append the sentence index to each word entry\n",
    "            rows.append(parts)\n",
    "\n",
    "    data = pd.DataFrame(rows, columns=columns + ['Sentence #'])\n",
    "    return data\n"
   ]
  },
  {
   "cell_type": "code",
   "execution_count": 117,
   "metadata": {},
   "outputs": [],
   "source": [
    "train = load_data(\"../data/eng.train\")\n",
    "testa = load_data(\"../data/eng.testa\")\n",
    "testb = load_data(\"../data/eng.testb\")"
   ]
  },
  {
   "cell_type": "markdown",
   "metadata": {},
   "source": [
    "## Testing REGEXP performance for NER"
   ]
  },
  {
   "cell_type": "code",
   "execution_count": 118,
   "metadata": {},
   "outputs": [],
   "source": [
    "import re\n",
    "regex = r\"[A-Z]+[^ ,.]*\"\n",
    "\n",
    "def regexp_pred(df):\n",
    "    pred = [1 if re.search(regex,str(df['Word'][i])) else 0 for i in range(len(df))]\n",
    "    return np.array(pred)\n",
    "\n",
    "def true_labels(df):\n",
    "    true = [1 if df['Tag'][i] == 'I-PER' else 0 for i in range(len(df))]\n",
    "    return np.array(true)"
   ]
  },
  {
   "cell_type": "code",
   "execution_count": 119,
   "metadata": {},
   "outputs": [],
   "source": [
    "train_pred = regexp_pred(train)\n",
    "testa_pred = regexp_pred(testa)\n",
    "testb_pred = regexp_pred(testb)\n",
    "\n",
    "train_true = true_labels(train)\n",
    "testa_true = true_labels(testa)\n",
    "testb_true = true_labels(testb)"
   ]
  },
  {
   "cell_type": "code",
   "execution_count": 120,
   "metadata": {},
   "outputs": [],
   "source": [
    "from sklearn.metrics import accuracy_score, recall_score, f1_score\n",
    "\n",
    "def calculate_metrics(true_labels, predictions):\n",
    "    accuracy = accuracy_score(true_labels, predictions)\n",
    "    recall = recall_score(true_labels, predictions, average='macro')  # Use 'macro' for multi-class classification\n",
    "    f1 = f1_score(true_labels, predictions, average='macro')  # Use 'macro' to treat all classes equally\n",
    "\n",
    "    return accuracy, recall, f1\n"
   ]
  },
  {
   "cell_type": "code",
   "execution_count": 121,
   "metadata": {},
   "outputs": [
    {
     "name": "stdout",
     "output_type": "stream",
     "text": [
      "Train Metrics - Accuracy: 0.83, Recall: 0.91, F1 Score: 0.65\n",
      "Testa Metrics - Accuracy: 0.84, Recall: 0.91, F1 Score: 0.67\n",
      "Testb Metrics - Accuracy: 0.82, Recall: 0.90, F1 Score: 0.65\n"
     ]
    }
   ],
   "source": [
    "train_accuracy, train_recall, train_f1 = calculate_metrics(train_true, train_pred)\n",
    "testa_accuracy, testa_recall, testa_f1 = calculate_metrics(testa_true, testa_pred)\n",
    "testb_accuracy, testb_recall, testb_f1 = calculate_metrics(testb_true, testb_pred)\n",
    "\n",
    "print(\"Train Metrics - Accuracy: {:.2f}, Recall: {:.2f}, F1 Score: {:.2f}\".format(train_accuracy, train_recall, train_f1))\n",
    "print(\"Testa Metrics - Accuracy: {:.2f}, Recall: {:.2f}, F1 Score: {:.2f}\".format(testa_accuracy, testa_recall, testa_f1))\n",
    "print(\"Testb Metrics - Accuracy: {:.2f}, Recall: {:.2f}, F1 Score: {:.2f}\".format(testb_accuracy, testb_recall, testb_f1))"
   ]
  },
  {
   "cell_type": "markdown",
   "metadata": {},
   "source": [
    "## Using RNNS for classification"
   ]
  },
  {
   "cell_type": "markdown",
   "metadata": {},
   "source": [
    "Cleaning data"
   ]
  },
  {
   "cell_type": "code",
   "execution_count": 122,
   "metadata": {},
   "outputs": [
    {
     "name": "stdout",
     "output_type": "stream",
     "text": [
      "year <num>\n"
     ]
    }
   ],
   "source": [
    "def clean_word(word):\n",
    "    word = word.lower()\n",
    "    word = re.sub(r'\\d+', '<num>', word) # Special token <num> for numbers\n",
    "    word = re.sub(r'[^\\w<>\\s]', '', word)  # \\w matches alphanumeric characters and underscore, \\s with spaces\n",
    "    \n",
    "    return word\n",
    "\n",
    "print(clean_word(\"Year 2026$!!\"))"
   ]
  },
  {
   "cell_type": "code",
   "execution_count": 123,
   "metadata": {},
   "outputs": [],
   "source": [
    "def clean_data(data):\n",
    "    data_copy = data.copy()\n",
    "    data_copy['Word'] = data_copy['Word'].apply(clean_word)\n",
    "    return data_copy"
   ]
  },
  {
   "cell_type": "code",
   "execution_count": 124,
   "metadata": {},
   "outputs": [],
   "source": [
    "clean_train = clean_data(train)\n",
    "clean_testa = clean_data(testa)\n",
    "clean_testb = clean_data(testb)"
   ]
  },
  {
   "cell_type": "markdown",
   "metadata": {},
   "source": [
    "Vocabulary class, with special tokens for padding and out-of-vocabulary words"
   ]
  },
  {
   "cell_type": "code",
   "execution_count": 125,
   "metadata": {},
   "outputs": [],
   "source": [
    "class Vocabulary:\n",
    "    def __init__(self, data):\n",
    "        self.words = ['<PAD>'] + ['<OOV>'] + sorted(set(data['Word']))\n",
    "        self.word_to_index = {word: i for i, word in enumerate(self.words)}\n",
    "        self.index_to_word = {i: word for i, word in enumerate(self.words)}\n",
    "\n",
    "    def size(self):\n",
    "        return len(self.words)\n",
    "    \n",
    "    def word_index(self, word):\n",
    "        return self.word_to_index.get(word, 1) # Return 1 (index of <OOV>) if word outside vocabulary\n",
    "\n",
    "    def index_word(self, index):\n",
    "        return self.index_to_word.get(index, None) \n"
   ]
  },
  {
   "cell_type": "markdown",
   "metadata": {},
   "source": [
    "Extracting sentences from the dataframe"
   ]
  },
  {
   "cell_type": "code",
   "execution_count": 126,
   "metadata": {},
   "outputs": [],
   "source": [
    "def extract_sentences(df):\n",
    "    sentences = df.groupby('Sentence #')['Word'].apply(list).tolist()\n",
    "    return sentences"
   ]
  },
  {
   "cell_type": "code",
   "execution_count": 127,
   "metadata": {},
   "outputs": [
    {
     "name": "stdout",
     "output_type": "stream",
     "text": [
      "[['eu', 'rejects', 'german', 'call', 'to', 'boycott', 'british', 'lamb', ''], ['peter', 'blackburn'], ['brussels', '<num><num><num>'], ['the', 'european', 'commission', 'said', 'on', 'thursday', 'it', 'disagreed', 'with', 'german', 'advice', 'to', 'consumers', 'to', 'shun', 'british', 'lamb', 'until', 'scientists', 'determine', 'whether', 'mad', 'cow', 'disease', 'can', 'be', 'transmitted', 'to', 'sheep', ''], ['germany', 's', 'representative', 'to', 'the', 'european', 'union', 's', 'veterinary', 'committee', 'werner', 'zwingmann', 'said', 'on', 'wednesday', 'consumers', 'should', 'buy', 'sheepmeat', 'from', 'countries', 'other', 'than', 'britain', 'until', 'the', 'scientific', 'advice', 'was', 'clearer', ''], ['', 'we', 'do', 'nt', 'support', 'any', 'such', 'recommendation', 'because', 'we', 'do', 'nt', 'see', 'any', 'grounds', 'for', 'it', '', '', 'the', 'commission', 's', 'chief', 'spokesman', 'nikolaus', 'van', 'der', 'pas', 'told', 'a', 'news', 'briefing', ''], ['he', 'said', 'further', 'scientific', 'study', 'was', 'required', 'and', 'if', 'it', 'was', 'found', 'that', 'action', 'was', 'needed', 'it', 'should', 'be', 'taken', 'by', 'the', 'european', 'union', ''], ['he', 'said', 'a', 'proposal', 'last', 'month', 'by', 'eu', 'farm', 'commissioner', 'franz', 'fischler', 'to', 'ban', 'sheep', 'brains', '', 'spleens', 'and', 'spinal', 'cords', 'from', 'the', 'human', 'and', 'animal', 'food', 'chains', 'was', 'a', 'highly', 'specific', 'and', 'precautionary', 'move', 'to', 'protect', 'human', 'health', ''], ['fischler', 'proposed', 'euwide', 'measures', 'after', 'reports', 'from', 'britain', 'and', 'france', 'that', 'under', 'laboratory', 'conditions', 'sheep', 'could', 'contract', 'bovine', 'spongiform', 'encephalopathy', '', 'bse', '', '', 'mad', 'cow', 'disease', ''], ['but', 'fischler', 'agreed', 'to', 'review', 'his', 'proposal', 'after', 'the', 'eu', 's', 'standing', 'veterinary', 'committee', '', 'mational', 'animal', 'health', 'officials', '', 'questioned', 'if', 'such', 'action', 'was', 'justified', 'as', 'there', 'was', 'only', 'a', 'slight', 'risk', 'to', 'human', 'health', '']]\n"
     ]
    }
   ],
   "source": [
    "train_sentences = extract_sentences(clean_train)\n",
    "testa_sentences = extract_sentences(clean_testa)\n",
    "testb_sentences = extract_sentences(clean_testb)\n",
    "\n",
    "print(train_sentences[:10])"
   ]
  },
  {
   "cell_type": "markdown",
   "metadata": {},
   "source": [
    "Getting useful metrics regarding sentences"
   ]
  },
  {
   "cell_type": "code",
   "execution_count": 152,
   "metadata": {},
   "outputs": [
    {
     "name": "stdout",
     "output_type": "stream",
     "text": [
      "Mean length:  14.501887329962253\n",
      "Standard variation:  11.602342778538238\n",
      "Median:  10.0\n",
      "Number of sentences above 20 words: 27377, or 0.2785414144291717%\n"
     ]
    },
    {
     "data": {
      "image/png": "[encoded data removed]",
      "text/plain": [
       "<Figure size 640x480 with 1 Axes>"
      ]
     },
     "metadata": {},
     "output_type": "display_data"
    }
   ],
   "source": [
    "sentence_lengths = np.array([len(sentence) for sentence in train_sentences])\n",
    "print(\"Mean length: \", sentence_lengths.mean())\n",
    "print(\"Standard variation: \", sentence_lengths.std())\n",
    "print(\"Median: \", np.median(sentence_lengths))\n",
    "maxlen = 20\n",
    "truncated = len([0 for sentence in train_sentences if len(sentence) > maxlen])\n",
    "print(f\"Number of sentences above {maxlen} words: {truncated}, or {truncated/len(train_sentences)}%\")\n",
    "\n",
    "plt.plot(np.arange(0,len(sentence_lengths)), sentence_lengths)\n",
    "plt.show()"
   ]
  },
  {
   "cell_type": "markdown",
   "metadata": {},
   "source": [
    "Vectorizing sentences"
   ]
  },
  {
   "cell_type": "code",
   "execution_count": 153,
   "metadata": {},
   "outputs": [],
   "source": [
    "def sentence_to_indices(sentence, vocab):\n",
    "    return [vocab.word_index(word) for word in sentence]"
   ]
  },
  {
   "cell_type": "code",
   "execution_count": 154,
   "metadata": {},
   "outputs": [],
   "source": [
    "from tensorflow.keras.preprocessing.sequence import pad_sequences\n",
    "\n",
    "def pad_sentences(sentences, padding='post', maxlen=None):\n",
    "    return pad_sequences(sentences, padding=padding, maxlen=maxlen)\n"
   ]
  },
  {
   "cell_type": "code",
   "execution_count": 167,
   "metadata": {},
   "outputs": [],
   "source": [
    "vocab = Vocabulary(clean_train)"
   ]
  },
  {
   "cell_type": "code",
   "execution_count": 156,
   "metadata": {},
   "outputs": [],
   "source": [
    "train_sentences_indices = [sentence_to_indices(sentence, vocab) for sentence in train_sentences]\n",
    "train_padded_sentences = pad_sentences(train_sentences_indices, maxlen=maxlen)\n",
    "\n",
    "testa_sentences_indices = [sentence_to_indices(sentence, vocab) for sentence in testa_sentences]\n",
    "testa_padded_sentences = pad_sentences(testa_sentences_indices, maxlen=maxlen)\n",
    "\n",
    "testb_sentences_indices = [sentence_to_indices(sentence, vocab) for sentence in testb_sentences]\n",
    "testb_padded_sentences = pad_sentences(testb_sentences_indices, maxlen=maxlen)"
   ]
  },
  {
   "cell_type": "code",
   "execution_count": 157,
   "metadata": {},
   "outputs": [
    {
     "name": "stdout",
     "output_type": "stream",
     "text": [
      "[ 5050 12570  6141  2275 15528  1965  2066  8452     2     0     0     0\n",
      "     0     0     0     0     0     0     0     0]\n"
     ]
    }
   ],
   "source": [
    "print(train_padded_sentences[0])"
   ]
  },
  {
   "cell_type": "markdown",
   "metadata": {},
   "source": [
    "Preparing label sequences"
   ]
  },
  {
   "cell_type": "code",
   "execution_count": 158,
   "metadata": {},
   "outputs": [],
   "source": [
    "import numpy as np\n",
    "import pandas as pd\n",
    "\n",
    "def prepare_labels_from_df(df, padding_label=0, maxlen=None):\n",
    "    grouped = df.groupby('Sentence #')['Tag'].apply(list)\n",
    "    \n",
    "    if maxlen is None:\n",
    "        maxlen = max(grouped.apply(len))\n",
    "    \n",
    "    label_sequences = []\n",
    "    \n",
    "    for tags in grouped:\n",
    "        label_sequence = [1 if tag == 'I-PER' else 0 for tag in tags]\n",
    "        label_sequence = label_sequence[:maxlen]\n",
    "        label_sequence += [padding_label] * (maxlen - len(label_sequence))\n",
    "        label_sequences.append(label_sequence)\n",
    "    \n",
    "    return np.array(label_sequences)\n"
   ]
  },
  {
   "cell_type": "code",
   "execution_count": 159,
   "metadata": {},
   "outputs": [],
   "source": [
    "train_labels = prepare_labels_from_df(clean_train, maxlen=maxlen)\n",
    "testa_labels = prepare_labels_from_df(clean_testa, maxlen=len(train_labels[0]))\n",
    "testb_labels = prepare_labels_from_df(clean_testb, maxlen=len(train_labels[0]))"
   ]
  },
  {
   "cell_type": "code",
   "execution_count": 160,
   "metadata": {},
   "outputs": [
    {
     "name": "stdout",
     "output_type": "stream",
     "text": [
      "[1 1 0 0 0 0 0 0 0 0 0 0 0 0 0 0 0 0 0 0]\n"
     ]
    }
   ],
   "source": [
    "print(train_labels[1])"
   ]
  },
  {
   "cell_type": "markdown",
   "metadata": {},
   "source": [
    "Building model architecture"
   ]
  },
  {
   "cell_type": "code",
   "execution_count": 161,
   "metadata": {},
   "outputs": [],
   "source": [
    "import tensorflow as tf\n",
    "from tensorflow.keras.layers import Masking, Embedding, SimpleRNN, TimeDistributed\n",
    "\n",
    "def build_model(vocab_size, embedding_dim, rnn_units, output_units):\n",
    "    model = tf.keras.Sequential([\n",
    "        Embedding(input_dim=vocab_size, output_dim=embedding_dim, mask_zero=True),  # Enable masking in the embedding layer, to ignore padding during training\n",
    "        Masking(mask_value=0),\n",
    "        SimpleRNN(rnn_units, return_sequences=True),\n",
    "        TimeDistributed(tf.keras.layers.Dense(output_units, activation='sigmoid'))\n",
    "    ])\n",
    "    return model\n"
   ]
  },
  {
   "cell_type": "code",
   "execution_count": 162,
   "metadata": {},
   "outputs": [
    {
     "data": {
      "text/html": [
       "<pre style=\"white-space:pre;overflow-x:auto;line-height:normal;font-family:Menlo,'DejaVu Sans Mono',consolas,'Courier New',monospace\"><span style=\"font-weight: bold\">Model: \"sequential_107\"</span>\n",
       "</pre>\n"
      ],
      "text/plain": [
       "\u001b[1mModel: \"sequential_107\"\u001b[0m\n"
      ]
     },
     "metadata": {},
     "output_type": "display_data"
    },
    {
     "data": {
      "text/html": [
       "<pre style=\"white-space:pre;overflow-x:auto;line-height:normal;font-family:Menlo,'DejaVu Sans Mono',consolas,'Courier New',monospace\">┏━━━━━━━━━━━━━━━━━━━━━━━━━━━━━━━━━┳━━━━━━━━━━━━━━━━━━━━━━━━┳━━━━━━━━━━━━━━━┓\n",
       "┃<span style=\"font-weight: bold\"> Layer (type)                    </span>┃<span style=\"font-weight: bold\"> Output Shape           </span>┃<span style=\"font-weight: bold\">       Param # </span>┃\n",
       "┡━━━━━━━━━━━━━━━━━━━━━━━━━━━━━━━━━╇━━━━━━━━━━━━━━━━━━━━━━━━╇━━━━━━━━━━━━━━━┩\n",
       "│ embedding_107 (<span style=\"color: #0087ff; text-decoration-color: #0087ff\">Embedding</span>)       │ ?                      │   <span style=\"color: #00af00; text-decoration-color: #00af00\">0</span> (unbuilt) │\n",
       "├─────────────────────────────────┼────────────────────────┼───────────────┤\n",
       "│ masking_54 (<span style=\"color: #0087ff; text-decoration-color: #0087ff\">Masking</span>)            │ ?                      │   <span style=\"color: #00af00; text-decoration-color: #00af00\">0</span> (unbuilt) │\n",
       "├─────────────────────────────────┼────────────────────────┼───────────────┤\n",
       "│ simple_rnn_107 (<span style=\"color: #0087ff; text-decoration-color: #0087ff\">SimpleRNN</span>)      │ ?                      │   <span style=\"color: #00af00; text-decoration-color: #00af00\">0</span> (unbuilt) │\n",
       "├─────────────────────────────────┼────────────────────────┼───────────────┤\n",
       "│ time_distributed_107            │ ?                      │   <span style=\"color: #00af00; text-decoration-color: #00af00\">0</span> (unbuilt) │\n",
       "│ (<span style=\"color: #0087ff; text-decoration-color: #0087ff\">TimeDistributed</span>)               │                        │               │\n",
       "└─────────────────────────────────┴────────────────────────┴───────────────┘\n",
       "</pre>\n"
      ],
      "text/plain": [
       "┏━━━━━━━━━━━━━━━━━━━━━━━━━━━━━━━━━┳━━━━━━━━━━━━━━━━━━━━━━━━┳━━━━━━━━━━━━━━━┓\n",
       "┃\u001b[1m \u001b[0m\u001b[1mLayer (type)                   \u001b[0m\u001b[1m \u001b[0m┃\u001b[1m \u001b[0m\u001b[1mOutput Shape          \u001b[0m\u001b[1m \u001b[0m┃\u001b[1m \u001b[0m\u001b[1m      Param #\u001b[0m\u001b[1m \u001b[0m┃\n",
       "┡━━━━━━━━━━━━━━━━━━━━━━━━━━━━━━━━━╇━━━━━━━━━━━━━━━━━━━━━━━━╇━━━━━━━━━━━━━━━┩\n",
       "│ embedding_107 (\u001b[38;5;33mEmbedding\u001b[0m)       │ ?                      │   \u001b[38;5;34m0\u001b[0m (unbuilt) │\n",
       "├─────────────────────────────────┼────────────────────────┼───────────────┤\n",
       "│ masking_54 (\u001b[38;5;33mMasking\u001b[0m)            │ ?                      │   \u001b[38;5;34m0\u001b[0m (unbuilt) │\n",
       "├─────────────────────────────────┼────────────────────────┼───────────────┤\n",
       "│ simple_rnn_107 (\u001b[38;5;33mSimpleRNN\u001b[0m)      │ ?                      │   \u001b[38;5;34m0\u001b[0m (unbuilt) │\n",
       "├─────────────────────────────────┼────────────────────────┼───────────────┤\n",
       "│ time_distributed_107            │ ?                      │   \u001b[38;5;34m0\u001b[0m (unbuilt) │\n",
       "│ (\u001b[38;5;33mTimeDistributed\u001b[0m)               │                        │               │\n",
       "└─────────────────────────────────┴────────────────────────┴───────────────┘\n"
      ]
     },
     "metadata": {},
     "output_type": "display_data"
    },
    {
     "data": {
      "text/html": [
       "<pre style=\"white-space:pre;overflow-x:auto;line-height:normal;font-family:Menlo,'DejaVu Sans Mono',consolas,'Courier New',monospace\"><span style=\"font-weight: bold\"> Total params: </span><span style=\"color: #00af00; text-decoration-color: #00af00\">0</span> (0.00 B)\n",
       "</pre>\n"
      ],
      "text/plain": [
       "\u001b[1m Total params: \u001b[0m\u001b[38;5;34m0\u001b[0m (0.00 B)\n"
      ]
     },
     "metadata": {},
     "output_type": "display_data"
    },
    {
     "data": {
      "text/html": [
       "<pre style=\"white-space:pre;overflow-x:auto;line-height:normal;font-family:Menlo,'DejaVu Sans Mono',consolas,'Courier New',monospace\"><span style=\"font-weight: bold\"> Trainable params: </span><span style=\"color: #00af00; text-decoration-color: #00af00\">0</span> (0.00 B)\n",
       "</pre>\n"
      ],
      "text/plain": [
       "\u001b[1m Trainable params: \u001b[0m\u001b[38;5;34m0\u001b[0m (0.00 B)\n"
      ]
     },
     "metadata": {},
     "output_type": "display_data"
    },
    {
     "data": {
      "text/html": [
       "<pre style=\"white-space:pre;overflow-x:auto;line-height:normal;font-family:Menlo,'DejaVu Sans Mono',consolas,'Courier New',monospace\"><span style=\"font-weight: bold\"> Non-trainable params: </span><span style=\"color: #00af00; text-decoration-color: #00af00\">0</span> (0.00 B)\n",
       "</pre>\n"
      ],
      "text/plain": [
       "\u001b[1m Non-trainable params: \u001b[0m\u001b[38;5;34m0\u001b[0m (0.00 B)\n"
      ]
     },
     "metadata": {},
     "output_type": "display_data"
    }
   ],
   "source": [
    "vocab_size = vocab.size()  # Vocabulary size\n",
    "embedding_dim = 64 \n",
    "rnn_units = 128  # Number of units in RNN\n",
    "output_units = 1  # Binary classification\n",
    "\n",
    "model = build_model(vocab_size, embedding_dim, rnn_units, output_units)\n",
    "\n",
    "model.summary()"
   ]
  },
  {
   "cell_type": "markdown",
   "metadata": {},
   "source": [
    "Preparing batches for training and validation"
   ]
  },
  {
   "cell_type": "code",
   "execution_count": 163,
   "metadata": {},
   "outputs": [],
   "source": [
    "train_labels = np.expand_dims(train_labels, axis=-1) \n",
    "testa_labels = np.expand_dims(testa_labels, axis=-1) \n",
    "testb_labels = np.expand_dims(testb_labels, axis=-1) \n",
    "\n",
    "train_dataset = tf.data.Dataset.from_tensor_slices((train_padded_sentences, train_labels))\n",
    "train_dataset = train_dataset.batch(32)\n",
    "\n",
    "testa_dataset = tf.data.Dataset.from_tensor_slices((testa_padded_sentences, testa_labels))\n",
    "testa_dataset = testa_dataset.batch(32)\n",
    "\n",
    "testb_dataset = tf.data.Dataset.from_tensor_slices((testb_padded_sentences, testb_labels))\n",
    "testb_dataset = testb_dataset.batch(32)"
   ]
  },
  {
   "cell_type": "markdown",
   "metadata": {},
   "source": [
    "Adjusting learning rate through a learning rate range test"
   ]
  },
  {
   "cell_type": "code",
   "execution_count": 164,
   "metadata": {},
   "outputs": [],
   "source": [
    "def controlled_tweak_learning_rate(dataset, model_fn, vocab, embedding_dim, rnn_units, learning_rates, epochs_per_lr=1):\n",
    "    losses = []\n",
    "    lrs = []\n",
    "    \n",
    "    for lr in learning_rates:\n",
    "        model = model_fn(vocab.size(), embedding_dim,rnn_units,output_units)  # Rebuild model to reset weights\n",
    "        optimizer = tf.keras.optimizers.Adam(learning_rate=lr)\n",
    "        model.compile(optimizer=optimizer, loss='binary_crossentropy', metrics=['accuracy', 'recall'])\n",
    "        history = model.fit(dataset, epochs=epochs_per_lr)\n",
    "        \n",
    "        # Append average loss over epochs for current learning rate\n",
    "        avg_loss = np.mean(history.history['loss'])\n",
    "        losses.append(avg_loss)\n",
    "        lrs.append(lr)\n",
    "        \n",
    "    # Plotting\n",
    "    plt.figure(figsize=(10, 6))\n",
    "    plt.semilogx(lrs, losses)\n",
    "    plt.xlabel(\"Learning Rate\")\n",
    "    plt.ylabel(\"Average Loss\")\n",
    "    plt.title(\"Learning Rate vs. Average Loss\")\n",
    "    plt.grid(True)\n",
    "    plt.show()\n",
    "    \n",
    "    return losses"
   ]
  },
  {
   "cell_type": "code",
   "execution_count": 165,
   "metadata": {},
   "outputs": [
    {
     "name": "stdout",
     "output_type": "stream",
     "text": [
      "\u001b[1m300/300\u001b[0m \u001b[32m━━━━━━━━━━━━━━━━━━━━\u001b[0m\u001b[37m\u001b[0m \u001b[1m7s\u001b[0m 14ms/step - accuracy: 0.4999 - loss: 0.6916 - recall: 0.4136\n",
      "\u001b[1m300/300\u001b[0m \u001b[32m━━━━━━━━━━━━━━━━━━━━\u001b[0m\u001b[37m\u001b[0m \u001b[1m6s\u001b[0m 14ms/step - accuracy: 0.6314 - loss: 0.6815 - recall: 0.4643\n",
      "\u001b[1m300/300\u001b[0m \u001b[32m━━━━━━━━━━━━━━━━━━━━\u001b[0m\u001b[37m\u001b[0m \u001b[1m6s\u001b[0m 14ms/step - accuracy: 0.6739 - loss: 0.6747 - recall: 0.4800\n",
      "\u001b[1m300/300\u001b[0m \u001b[32m━━━━━━━━━━━━━━━━━━━━\u001b[0m\u001b[37m\u001b[0m \u001b[1m6s\u001b[0m 14ms/step - accuracy: 0.3156 - loss: 0.7250 - recall: 0.5042\n",
      "\u001b[1m300/300\u001b[0m \u001b[32m━━━━━━━━━━━━━━━━━━━━\u001b[0m\u001b[37m\u001b[0m \u001b[1m6s\u001b[0m 13ms/step - accuracy: 0.6260 - loss: 0.6818 - recall: 0.5052\n",
      "\u001b[1m300/300\u001b[0m \u001b[32m━━━━━━━━━━━━━━━━━━━━\u001b[0m\u001b[37m\u001b[0m \u001b[1m6s\u001b[0m 14ms/step - accuracy: 0.5627 - loss: 0.6857 - recall: 0.4045\n",
      "\u001b[1m300/300\u001b[0m \u001b[32m━━━━━━━━━━━━━━━━━━━━\u001b[0m\u001b[37m\u001b[0m \u001b[1m6s\u001b[0m 14ms/step - accuracy: 0.6918 - loss: 0.6616 - recall: 0.4520\n",
      "\u001b[1m300/300\u001b[0m \u001b[32m━━━━━━━━━━━━━━━━━━━━\u001b[0m\u001b[37m\u001b[0m \u001b[1m6s\u001b[0m 14ms/step - accuracy: 0.8268 - loss: 0.5780 - recall: 0.2955\n",
      "\u001b[1m300/300\u001b[0m \u001b[32m━━━━━━━━━━━━━━━━━━━━\u001b[0m\u001b[37m\u001b[0m \u001b[1m8s\u001b[0m 14ms/step - accuracy: 0.8407 - loss: 0.4719 - recall: 0.2361\n",
      "\u001b[1m300/300\u001b[0m \u001b[32m━━━━━━━━━━━━━━━━━━━━\u001b[0m\u001b[37m\u001b[0m \u001b[1m7s\u001b[0m 14ms/step - accuracy: 0.8690 - loss: 0.3895 - recall: 0.1692\n",
      "\u001b[1m300/300\u001b[0m \u001b[32m━━━━━━━━━━━━━━━━━━━━\u001b[0m\u001b[37m\u001b[0m \u001b[1m6s\u001b[0m 14ms/step - accuracy: 0.9180 - loss: 0.2839 - recall: 0.0676\n",
      "\u001b[1m300/300\u001b[0m \u001b[32m━━━━━━━━━━━━━━━━━━━━\u001b[0m\u001b[37m\u001b[0m \u001b[1m6s\u001b[0m 14ms/step - accuracy: 0.9374 - loss: 0.2234 - recall: 0.0398\n",
      "\u001b[1m300/300\u001b[0m \u001b[32m━━━━━━━━━━━━━━━━━━━━\u001b[0m\u001b[37m\u001b[0m \u001b[1m6s\u001b[0m 13ms/step - accuracy: 0.9461 - loss: 0.1892 - recall: 0.1047\n",
      "\u001b[1m300/300\u001b[0m \u001b[32m━━━━━━━━━━━━━━━━━━━━\u001b[0m\u001b[37m\u001b[0m \u001b[1m6s\u001b[0m 12ms/step - accuracy: 0.9494 - loss: 0.1639 - recall: 0.1676\n",
      "\u001b[1m300/300\u001b[0m \u001b[32m━━━━━━━━━━━━━━━━━━━━\u001b[0m\u001b[37m\u001b[0m \u001b[1m6s\u001b[0m 12ms/step - accuracy: 0.9449 - loss: 0.1556 - recall: 0.1955\n",
      "\u001b[1m300/300\u001b[0m \u001b[32m━━━━━━━━━━━━━━━━━━━━\u001b[0m\u001b[37m\u001b[0m \u001b[1m6s\u001b[0m 13ms/step - accuracy: 0.9445 - loss: 0.1561 - recall: 0.2620\n",
      "\u001b[1m300/300\u001b[0m \u001b[32m━━━━━━━━━━━━━━━━━━━━\u001b[0m\u001b[37m\u001b[0m \u001b[1m6s\u001b[0m 13ms/step - accuracy: 0.9469 - loss: 0.1851 - recall: 0.2556\n",
      "\u001b[1m300/300\u001b[0m \u001b[32m━━━━━━━━━━━━━━━━━━━━\u001b[0m\u001b[37m\u001b[0m \u001b[1m6s\u001b[0m 14ms/step - accuracy: 0.9372 - loss: 0.6772 - recall: 0.0148\n",
      "\u001b[1m300/300\u001b[0m \u001b[32m━━━━━━━━━━━━━━━━━━━━\u001b[0m\u001b[37m\u001b[0m \u001b[1m9s\u001b[0m 14ms/step - accuracy: 0.9036 - loss: 0.8218 - recall: 0.2171\n",
      "\u001b[1m300/300\u001b[0m \u001b[32m━━━━━━━━━━━━━━━━━━━━\u001b[0m\u001b[37m\u001b[0m \u001b[1m7s\u001b[0m 14ms/step - accuracy: 0.8956 - loss: 1.3978 - recall: 0.2076\n"
     ]
    },
    {
     "data": {
      "image/png": "[encoded data removed]",
      "text/plain": [
       "<Figure size 1000x600 with 1 Axes>"
      ]
     },
     "metadata": {},
     "output_type": "display_data"
    },
    {
     "data": {
      "text/plain": [
       "[0.6930302977561951,\n",
       " 0.6817797422409058,\n",
       " 0.6739139556884766,\n",
       " 0.7236074805259705,\n",
       " 0.6768014430999756,\n",
       " 0.6772748827934265,\n",
       " 0.6348745822906494,\n",
       " 0.4883531332015991,\n",
       " 0.34018591046333313,\n",
       " 0.25892385840415955,\n",
       " 0.19090981781482697,\n",
       " 0.1527092605829239,\n",
       " 0.12979775667190552,\n",
       " 0.11759205162525177,\n",
       " 0.11939787864685059,\n",
       " 0.11753233522176743,\n",
       " 0.14349959790706635,\n",
       " 0.5873068571090698,\n",
       " 0.745650053024292,\n",
       " 1.1502139568328857]"
      ]
     },
     "execution_count": 165,
     "metadata": {},
     "output_type": "execute_result"
    }
   ],
   "source": [
    "def get_subset(dataset, subset_size=100):\n",
    "    return dataset.take(subset_size)\n",
    "\n",
    "reduced_set = get_subset(train_dataset, 300)\n",
    "\n",
    "# Now perform the learning rate test on the reduced dataset\n",
    "controlled_tweak_learning_rate(reduced_set, build_model, vocab, embedding_dim, rnn_units, np.logspace(start=-8,stop=0,num=20,base=10))"
   ]
  },
  {
   "cell_type": "markdown",
   "metadata": {},
   "source": [
    "Training the model"
   ]
  },
  {
   "cell_type": "code",
   "execution_count": 166,
   "metadata": {},
   "outputs": [
    {
     "name": "stdout",
     "output_type": "stream",
     "text": [
      "Epoch 1/10\n",
      "\u001b[1m3072/3072\u001b[0m \u001b[32m━━━━━━━━━━━━━━━━━━━━\u001b[0m\u001b[37m\u001b[0m \u001b[1m43s\u001b[0m 13ms/step - accuracy: 0.9762 - loss: 0.0854 - recall: 0.4925\n",
      "Epoch 2/10\n",
      "\u001b[1m3072/3072\u001b[0m \u001b[32m━━━━━━━━━━━━━━━━━━━━\u001b[0m\u001b[37m\u001b[0m \u001b[1m38s\u001b[0m 12ms/step - accuracy: 0.9857 - loss: 0.0512 - recall: 0.6646\n",
      "Epoch 3/10\n",
      "\u001b[1m3072/3072\u001b[0m \u001b[32m━━━━━━━━━━━━━━━━━━━━\u001b[0m\u001b[37m\u001b[0m \u001b[1m37s\u001b[0m 12ms/step - accuracy: 0.9847 - loss: 0.0535 - recall: 0.6561\n",
      "Epoch 4/10\n",
      "\u001b[1m3072/3072\u001b[0m \u001b[32m━━━━━━━━━━━━━━━━━━━━\u001b[0m\u001b[37m\u001b[0m \u001b[1m39s\u001b[0m 13ms/step - accuracy: 0.9834 - loss: 0.0593 - recall: 0.6283\n",
      "Epoch 5/10\n",
      "\u001b[1m3072/3072\u001b[0m \u001b[32m━━━━━━━━━━━━━━━━━━━━\u001b[0m\u001b[37m\u001b[0m \u001b[1m42s\u001b[0m 14ms/step - accuracy: 0.9834 - loss: 0.0603 - recall: 0.6258\n",
      "Epoch 6/10\n",
      "\u001b[1m3072/3072\u001b[0m \u001b[32m━━━━━━━━━━━━━━━━━━━━\u001b[0m\u001b[37m\u001b[0m \u001b[1m42s\u001b[0m 14ms/step - accuracy: 0.9839 - loss: 0.0595 - recall: 0.6317\n",
      "Epoch 7/10\n",
      "\u001b[1m3072/3072\u001b[0m \u001b[32m━━━━━━━━━━━━━━━━━━━━\u001b[0m\u001b[37m\u001b[0m \u001b[1m42s\u001b[0m 14ms/step - accuracy: 0.9844 - loss: 0.0582 - recall: 0.6402\n",
      "Epoch 8/10\n",
      "\u001b[1m3072/3072\u001b[0m \u001b[32m━━━━━━━━━━━━━━━━━━━━\u001b[0m\u001b[37m\u001b[0m \u001b[1m42s\u001b[0m 14ms/step - accuracy: 0.9840 - loss: 0.0588 - recall: 0.6321\n",
      "Epoch 9/10\n",
      "\u001b[1m3072/3072\u001b[0m \u001b[32m━━━━━━━━━━━━━━━━━━━━\u001b[0m\u001b[37m\u001b[0m \u001b[1m43s\u001b[0m 14ms/step - accuracy: 0.9841 - loss: 0.0585 - recall: 0.6380\n",
      "Epoch 10/10\n",
      "\u001b[1m3072/3072\u001b[0m \u001b[32m━━━━━━━━━━━━━━━━━━━━\u001b[0m\u001b[37m\u001b[0m \u001b[1m43s\u001b[0m 14ms/step - accuracy: 0.9844 - loss: 0.0575 - recall: 0.6444\n"
     ]
    },
    {
     "data": {
      "text/plain": [
       "<keras.src.callbacks.history.History at 0x717533af03d0>"
      ]
     },
     "execution_count": 166,
     "metadata": {},
     "output_type": "execute_result"
    }
   ],
   "source": [
    "model = build_model(vocab_size, embedding_dim, rnn_units, output_units)\n",
    "optimizer = tf.keras.optimizers.Adam(learning_rate=1e-2)\n",
    "model.compile(optimizer=optimizer, loss='binary_crossentropy', metrics=['accuracy','recall'])\n",
    "\n",
    "model.fit(train_dataset, epochs=10)\n"
   ]
  },
  {
   "cell_type": "markdown",
   "metadata": {},
   "source": [
    "The more important metric to keep track of here is recall, as accuracy is heavily biased by the sparse representeation of sentences (low number of person names relative to sentence size)."
   ]
  }
 ],
 "metadata": {
  "kernelspec": {
   "display_name": "ml",
   "language": "python",
   "name": "python3"
  },
  "language_info": {
   "codemirror_mode": {
    "name": "ipython",
    "version": 3
   },
   "file_extension": ".py",
   "mimetype": "text/x-python",
   "name": "python",
   "nbconvert_exporter": "python",
   "pygments_lexer": "ipython3",
   "version": "3.11.5"
  }
 },
 "nbformat": 4,
 "nbformat_minor": 2
}
