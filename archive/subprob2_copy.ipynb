{
  "cells": [
    {
      "cell_type": "markdown",
      "metadata": {
        "id": "nuKyvaDCsFMN"
      },
      "source": [
        "## Loading data"
      ]
    },
    {
      "cell_type": "code",
      "execution_count": 80,
      "metadata": {
        "id": "LGLR-oBSsFMP"
      },
      "outputs": [],
      "source": [
        "import numpy as np\n",
        "import matplotlib.pyplot as plt\n",
        "import pandas as pd"
      ]
    },
    {
      "cell_type": "code",
      "execution_count": 81,
      "metadata": {
        "id": "dHtjUeddsFMQ"
      },
      "outputs": [],
      "source": [
        "def load_data(file_path):\n",
        "    columns = ['Word', 'POS', 'Chunk', 'Tag']\n",
        "\n",
        "    with open(file_path, 'r') as file:\n",
        "        rows = []\n",
        "        sentence_index = 1  # Start sentence indexing\n",
        "        for line in file:\n",
        "            if line.startswith('-DOCSTART-') or line.strip() == '':  # Skip doc starts and empty lines\n",
        "                sentence_index += 1\n",
        "                continue\n",
        "            parts = line.strip().split()\n",
        "            parts.append(sentence_index)  # Append the sentence index to each word entry\n",
        "            rows.append(parts)\n",
        "\n",
        "    data = pd.DataFrame(rows, columns=columns + ['Sentence #'])\n",
        "    return data\n"
      ]
    },
    {
      "cell_type": "code",
      "execution_count": 82,
      "metadata": {
        "id": "vAi7iFxEsFMQ"
      },
      "outputs": [],
      "source": [
        "train = load_data(\"../data/eng.train\")\n",
        "testa = load_data(\"../data/eng.testa\")\n",
        "testb = load_data(\"../data/eng.testb\")"
      ]
    },
    {
      "cell_type": "markdown",
      "metadata": {
        "id": "BchwQSCdsFMR"
      },
      "source": [
        "## Testing REGEXP performance for NER"
      ]
    },
    {
      "cell_type": "code",
      "execution_count": 83,
      "metadata": {
        "id": "CyIyiPMbsFMR"
      },
      "outputs": [],
      "source": [
        "import re\n",
        "regex = r\"[A-Z]+[^ ,.]*\"\n",
        "\n",
        "def regexp_pred(df):\n",
        "    pred = [1 if re.search(regex,str(df['Word'][i])) else 0 for i in range(len(df))]\n",
        "    return np.array(pred)\n",
        "\n",
        "def true_labels(df):\n",
        "    true = [1 if df['Tag'][i] == 'I-PER' else 0 for i in range(len(df))]\n",
        "    return np.array(true)"
      ]
    },
    {
      "cell_type": "code",
      "execution_count": 84,
      "metadata": {
        "id": "3FEn3uFxsFMR"
      },
      "outputs": [],
      "source": [
        "train_pred = regexp_pred(train)\n",
        "testa_pred = regexp_pred(testa)\n",
        "testb_pred = regexp_pred(testb)\n",
        "\n",
        "train_true = true_labels(train)\n",
        "testa_true = true_labels(testa)\n",
        "testb_true = true_labels(testb)"
      ]
    },
    {
      "cell_type": "code",
      "execution_count": 85,
      "metadata": {
        "colab": {
          "base_uri": "https://localhost:8080/"
        },
        "id": "jdbYIs98sFMR",
        "outputId": "bd193814-ee8a-416f-b571-adad119b78dd"
      },
      "outputs": [
        {
          "name": "stdout",
          "output_type": "stream",
          "text": [
            "Training Set - Accuracy: 0.8326007631825794 Precision: 0.24534120152631111 Recall: 0.9937994248741913 F1 Score: 0.39353070955803854\n",
            "Test Set A - Accuracy: 0.8404992100754323 Precision: 0.27636013480982186 Recall: 0.9895204826929184 F1 Score: 0.43205340252948926\n",
            "Test Set B - Accuracy: 0.822267686012706 Precision: 0.2509090909090909 Recall: 0.995311936530833 F1 Score: 0.40078414288825964\n"
          ]
        }
      ],
      "source": [
        "from sklearn.metrics import accuracy_score, precision_score, recall_score, f1_score\n",
        "\n",
        "# Calculating accuracy\n",
        "train_accuracy = accuracy_score(train_true, train_pred)\n",
        "testa_accuracy = accuracy_score(testa_true, testa_pred)\n",
        "testb_accuracy = accuracy_score(testb_true, testb_pred)\n",
        "\n",
        "# Calculating precision\n",
        "train_precision = precision_score(train_true, train_pred, average='binary')\n",
        "testa_precision = precision_score(testa_true, testa_pred, average='binary')\n",
        "testb_precision = precision_score(testb_true, testb_pred, average='binary')\n",
        "\n",
        "# Calculating recall\n",
        "train_recall = recall_score(train_true, train_pred, average='binary')\n",
        "testa_recall = recall_score(testa_true, testa_pred, average='binary')\n",
        "testb_recall = recall_score(testb_true, testb_pred, average='binary')\n",
        "\n",
        "# Calculating F1 score\n",
        "train_f1 = f1_score(train_true, train_pred, average='binary')\n",
        "testa_f1 = f1_score(testa_true, testa_pred, average='binary')\n",
        "testb_f1 = f1_score(testb_true, testb_pred, average='binary')\n",
        "\n",
        "print(\"Training Set - Accuracy:\", train_accuracy, \"Precision:\", train_precision, \"Recall:\", train_recall, \"F1 Score:\", train_f1)\n",
        "print(\"Test Set A - Accuracy:\", testa_accuracy, \"Precision:\", testa_precision, \"Recall:\", testa_recall, \"F1 Score:\", testa_f1)\n",
        "print(\"Test Set B - Accuracy:\", testb_accuracy, \"Precision:\", testb_precision, \"Recall:\", testb_recall, \"F1 Score:\", testb_f1)\n"
      ]
    },
    {
      "cell_type": "markdown",
      "metadata": {
        "id": "tW_S14cUsFMS"
      },
      "source": [
        "## Building our own text-to-vector-to-label algorithm"
      ]
    },
    {
      "cell_type": "markdown",
      "metadata": {
        "id": "Ud87hi-IsFMS"
      },
      "source": [
        "Text Preprocessing"
      ]
    },
    {
      "cell_type": "code",
      "execution_count": 86,
      "metadata": {},
      "outputs": [],
      "source": [
        "def clean_word(word):\n",
        "    word = word.lower()\n",
        "    word = re.sub(r'\\d+', '<num>', word) # Special token <num> for numbers\n",
        "    word = re.sub(r'[^\\w<>\\s]', '', word)  # \\w matches alphanumeric characters and underscore, \\s with spaces\n",
        "\n",
        "    return word"
      ]
    },
    {
      "cell_type": "code",
      "execution_count": 87,
      "metadata": {
        "id": "_ivwM6HpsFMS"
      },
      "outputs": [],
      "source": [
        "def clean_data(data):\n",
        "    data_copy = data.copy()\n",
        "    data_copy['Word'] = data_copy['Word'].apply(clean_word)\n",
        "    data_copy = data_copy[data_copy['Word'].str.strip() != '']\n",
        "    return data_copy "
      ]
    },
    {
      "cell_type": "code",
      "execution_count": 88,
      "metadata": {
        "id": "CnjnjURnsFMT"
      },
      "outputs": [],
      "source": [
        "clean_train = clean_data(train)\n",
        "clean_testa = clean_data(testa)\n",
        "clean_testb = clean_data(testb)"
      ]
    },
    {
      "cell_type": "markdown",
      "metadata": {
        "id": "YNhfa6VQsFMT"
      },
      "source": [
        "Vocabulary class, with special tokens for padding and out-of-vocabulary words"
      ]
    },
    {
      "cell_type": "code",
      "execution_count": 89,
      "metadata": {
        "id": "WXirohQBsFMT"
      },
      "outputs": [],
      "source": [
        "class Vocabulary:\n",
        "    def __init__(self, data):\n",
        "        self.words = ['<PAD>'] + ['<OOV>'] + sorted(set(data['Word']))\n",
        "        self.word_to_index = {word: i for i, word in enumerate(self.words)}\n",
        "        self.index_to_word = {i: word for i, word in enumerate(self.words)}\n",
        "\n",
        "    def size(self):\n",
        "        return len(self.words)\n",
        "\n",
        "    def word_index(self, word):\n",
        "        return self.word_to_index.get(word, 1) # Return 1 (index of <OOV>) if word outside vocabulary\n",
        "\n",
        "    def index_word(self, index):\n",
        "        return self.index_to_word.get(index, None)\n"
      ]
    },
    {
      "cell_type": "markdown",
      "metadata": {
        "id": "4QMphjI8sFMT"
      },
      "source": [
        "Learning dense embedding vectors for words in the vocabulary"
      ]
    },
    {
      "cell_type": "code",
      "execution_count": 90,
      "metadata": {
        "id": "16ZHMw3NsFMT"
      },
      "outputs": [],
      "source": [
        "class Embeddings:\n",
        "    def __init__(self, vocabulary, vector_size=50, window_size=2, learning_rate=1e-3, epochs=10):\n",
        "        self.vocabulary = vocabulary\n",
        "        self.vector_size = vector_size\n",
        "        self.window_size = window_size\n",
        "        self.learning_rate = learning_rate\n",
        "        self.epochs = epochs\n",
        "        self.vectors = np.random.randn(self.vocabulary.size(), vector_size) # Randomly initializing embedding vectors\n",
        "        self.vectors[0] = np.array([0]*vector_size) # Padding token vector is set to 0, OOV token remains random\n",
        "\n",
        "    def train(self, sentences):\n",
        "        for epoch in range(self.epochs):\n",
        "            print(f\"Epoch {epoch} starting\")\n",
        "            for sentence in sentences:\n",
        "                for i, token in enumerate(sentence):\n",
        "                    current_idx = self.vocabulary.word_index(token)\n",
        "                    start = max(0, i-self.window_size)\n",
        "                    end = min(len(sentence), i+self.window_size+1)\n",
        "                    for j in range(start, end):\n",
        "                        if i!=j and sentence[j]:\n",
        "                            context_idx = self.vocabulary.word_index(sentence[j])\n",
        "                            self.update_vectors(current_idx,  context_idx)\n",
        "\n",
        "    def update_vectors(self, current_idx, context_idx):\n",
        "        current_vector = self.vectors[current_idx]\n",
        "        context_vector = self.vectors[context_idx]\n",
        "        grad = current_vector - context_vector\n",
        "        self.vectors[current_idx] -= grad * self.learning_rate\n",
        "        self.vectors[context_idx] += grad * self.learning_rate\n",
        "\n",
        "    def word_to_embedding(self, word):\n",
        "        idx = self.vocabulary.word_index(word)\n",
        "        return self.vectors[idx]\n",
        "\n",
        "\n"
      ]
    },
    {
      "cell_type": "markdown",
      "metadata": {
        "id": "aUGqyHK1sFMT"
      },
      "source": [
        "Extracting sentences from the dataframe"
      ]
    },
    {
      "cell_type": "code",
      "execution_count": 91,
      "metadata": {
        "id": "056RT9qZsFMT"
      },
      "outputs": [],
      "source": [
        "def extract_sentences(df):\n",
        "    sentences = df.groupby('Sentence #')['Word'].apply(list).tolist()\n",
        "    return sentences"
      ]
    },
    {
      "cell_type": "code",
      "execution_count": 92,
      "metadata": {
        "colab": {
          "base_uri": "https://localhost:8080/"
        },
        "id": "jKr7yYBAsFMT",
        "outputId": "fb9fb642-9bf7-4ed4-ecb0-f23ad9bdd71b"
      },
      "outputs": [
        {
          "name": "stdout",
          "output_type": "stream",
          "text": [
            "89\n",
            "[['eu', 'rejects', 'german', 'call', 'to', 'boycott', 'british', 'lamb'], ['peter', 'blackburn'], ['brussels', '<num><num><num>'], ['the', 'european', 'commission', 'said', 'on', 'thursday', 'it', 'disagreed', 'with', 'german', 'advice', 'to', 'consumers', 'to', 'shun', 'british', 'lamb', 'until', 'scientists', 'determine', 'whether', 'mad', 'cow', 'disease', 'can', 'be', 'transmitted', 'to', 'sheep'], ['germany', 's', 'representative', 'to', 'the', 'european', 'union', 's', 'veterinary', 'committee', 'werner', 'zwingmann', 'said', 'on', 'wednesday', 'consumers', 'should', 'buy', 'sheepmeat', 'from', 'countries', 'other', 'than', 'britain', 'until', 'the', 'scientific', 'advice', 'was', 'clearer'], ['we', 'do', 'nt', 'support', 'any', 'such', 'recommendation', 'because', 'we', 'do', 'nt', 'see', 'any', 'grounds', 'for', 'it', 'the', 'commission', 's', 'chief', 'spokesman', 'nikolaus', 'van', 'der', 'pas', 'told', 'a', 'news', 'briefing'], ['he', 'said', 'further', 'scientific', 'study', 'was', 'required', 'and', 'if', 'it', 'was', 'found', 'that', 'action', 'was', 'needed', 'it', 'should', 'be', 'taken', 'by', 'the', 'european', 'union'], ['he', 'said', 'a', 'proposal', 'last', 'month', 'by', 'eu', 'farm', 'commissioner', 'franz', 'fischler', 'to', 'ban', 'sheep', 'brains', 'spleens', 'and', 'spinal', 'cords', 'from', 'the', 'human', 'and', 'animal', 'food', 'chains', 'was', 'a', 'highly', 'specific', 'and', 'precautionary', 'move', 'to', 'protect', 'human', 'health'], ['fischler', 'proposed', 'euwide', 'measures', 'after', 'reports', 'from', 'britain', 'and', 'france', 'that', 'under', 'laboratory', 'conditions', 'sheep', 'could', 'contract', 'bovine', 'spongiform', 'encephalopathy', 'bse', 'mad', 'cow', 'disease'], ['but', 'fischler', 'agreed', 'to', 'review', 'his', 'proposal', 'after', 'the', 'eu', 's', 'standing', 'veterinary', 'committee', 'mational', 'animal', 'health', 'officials', 'questioned', 'if', 'such', 'action', 'was', 'justified', 'as', 'there', 'was', 'only', 'a', 'slight', 'risk', 'to', 'human', 'health']]\n"
          ]
        }
      ],
      "source": [
        "train_sentences = extract_sentences(clean_train)\n",
        "testa_sentences = extract_sentences(clean_testa)\n",
        "testb_sentences = extract_sentences(clean_testb)\n",
        "\n",
        "print(max([len(sentence) for sentence in train_sentences]))\n",
        "print(train_sentences[:10])"
      ]
    },
    {
      "cell_type": "code",
      "execution_count": 93,
      "metadata": {
        "id": "4kFUVE2xsFMU"
      },
      "outputs": [],
      "source": [
        "def remove_empty_sentences(sentences):\n",
        "    sentences = [sentence for sentence in sentences if len(sentence)>0]\n",
        "    return sentences\n",
        "\n",
        "def clean_sentences(sentences):\n",
        "    sentences = remove_empty_sentences(sentences)\n",
        "    return sentences"
      ]
    },
    {
      "cell_type": "code",
      "execution_count": 94,
      "metadata": {
        "id": "QdCRz_nSsFMU"
      },
      "outputs": [],
      "source": [
        "train_sentences = clean_sentences(train_sentences)\n",
        "testa_sentences = clean_sentences(testa_sentences)\n",
        "testb_sentences = clean_sentences(testb_sentences)"
      ]
    },
    {
      "cell_type": "code",
      "execution_count": 95,
      "metadata": {
        "colab": {
          "base_uri": "https://localhost:8080/"
        },
        "id": "vvo2DSKXsFMU",
        "outputId": "c13f9c0e-3140-46c6-ad06-47523f8eafa3"
      },
      "outputs": [
        {
          "name": "stdout",
          "output_type": "stream",
          "text": [
            "97930\n",
            "1244180\n"
          ]
        }
      ],
      "source": [
        "print(len(train_sentences))\n",
        "print(np.sum([len(sentence) for sentence in train_sentences]))"
      ]
    },
    {
      "cell_type": "markdown",
      "metadata": {
        "id": "urNg_A4IsFMU"
      },
      "source": [
        "Vectorizing sentences"
      ]
    },
    {
      "cell_type": "code",
      "execution_count": 96,
      "metadata": {
        "id": "e-9mijmHsFMU"
      },
      "outputs": [],
      "source": [
        "def sentence_to_vectors(sentence, embedding):\n",
        "    return [embedding.word_to_embedding(word) for word in sentence]"
      ]
    },
    {
      "cell_type": "code",
      "execution_count": 97,
      "metadata": {
        "id": "MyLtZ5EcsFMU"
      },
      "outputs": [],
      "source": [
        "from tensorflow.keras.preprocessing.sequence import pad_sequences\n",
        "\n",
        "def pad_sentences(sentences, padding='post', maxlen=None):\n",
        "    return pad_sequences(sentences, padding=padding, maxlen=maxlen)\n"
      ]
    },
    {
      "cell_type": "code",
      "execution_count": 98,
      "metadata": {
        "colab": {
          "base_uri": "https://localhost:8080/"
        },
        "id": "NgidVb-GsFMU",
        "outputId": "176b4799-9880-4e05-857f-0e6edd16c1bb"
      },
      "outputs": [
        {
          "name": "stdout",
          "output_type": "stream",
          "text": [
            "['accomplice', 'accomplices', 'accomplish', 'accomplished', 'accord', 'accordance', 'according', 'accordingly', 'accords', 'accosts', 'account', 'accountant', 'accounted', 'accounting', 'accounts', 'accreditation', 'accredited', 'acct', 'accumulated', 'accuracy', 'accurate', 'accurately', 'accusation', 'accusations', 'accuse', 'accused', 'accuses', 'accusing', 'aces', 'achieve', 'achieved', 'achievement', 'achievements', 'achieving', 'ackerman', 'acknowledge', 'acknowledged', 'acquire', 'acquired', 'acquiring', 'acquisition', 'acquisitions', 'acquittal', 'acquitted', 'acre', 'acreage', 'acres', 'acrimonious', 'acrobatic', 'across', 'andersson', 'anderton', 'andhra', 'andi', 'andre', 'andrea', 'andreas', 'andrei', 'andrejez', 'andres', 'andrew', 'andrews', 'andria', 'andrievskaqya', 'andruw', 'andy', 'angel', 'angeles', 'angelesbased', 'angeli', 'angelica', 'angelo', 'angels', 'anger', 'angered', 'anglert', 'angola', 'angolan', 'angry', 'anguish', 'anhui', 'anil', 'animal', 'animals', 'animist', 'anis', 'anita', 'anja', 'anjalonkoski', 'ankara', 'anke', 'ankle', 'ann', 'anna', 'annabel', 'annahar', 'anne', 'annegaelle', 'anneke', 'annett', 'aznar', 'azocar', 'azul', 'b', 'b<num>', 'ba', 'ba<num>', 'baa<num>', 'baader', 'baath', 'babakova', 'babangida', 'babayan', 'babb', 'babbel', 'babel', 'babes', 'babies', 'baby', 'bacau', 'bach', 'bachini', 'bachirou', 'bacillus', 'back', 'backbone', 'backdrop', 'backed', 'backers', 'background', 'backing', 'backlash', 'backley', 'backs', 'backtoback', 'backwardation', 'backwards', 'backyard', 'bacteria', 'bacterial', 'bad', 'bada', 'baditondon', 'badly', 'badminton', 'baeron', 'bag', 'baggage', 'bagged', 'baggio', 'birch', 'bird', 'birdie', 'birdied', 'birds', 'birenda', 'birendra', 'birmingham', 'birnberg', 'birt', 'birth', 'birthday', 'bishop', 'bishops', 'bissell', 'bistrita', 'bit', 'bitter', 'bitterness', 'bizarre', 'bj', 'bjorkman', 'bjorn', 'black', 'blackburn', 'blackmail', 'blackmailed', 'blackmailer', 'blackpool', 'blacks', 'blair', 'blake', 'blakey', 'blame', 'blamed', 'blames', 'blaming', 'blanco', 'blancs', 'blank', 'blanked', 'blanket', 'blanks', 'blantyre', 'blast', 'blasted', 'blasts', 'blaze', 'blazing', 'blenkinsop', 'burundicentral', 'bury', 'bus', 'buses', 'bush', 'bushel', 'bushland', 'bushman', 'busiest', 'business', 'businesses', 'businesslike', 'businessman', 'businessmen', 'busy', 'but', 'butare', 'butch', 'butte', 'buttocks', 'buy', 'buyback', 'buyer', 'buyers', 'buying', 'buyoya', 'buys', 'buzuku', 'bvsc', 'by', 'byas', 'bye', 'byers', 'bypass', 'byron', 'bystanders', 'bystrica', 'c', 'ca', 'cabaret', 'cabinet', 'cable', 'cables', 'caboche', 'cac<num>', 'cacic', 'cadalora', 'caddick', 'cadete', 'caen', 'chiapas', 'chiate', 'chicago', 'chicane', 'chicken', 'chief', 'chiefly', 'chiefofstaff', 'chiefs', 'chiesa', 'chievo', 'chihuahua', 'child', 'children', 'childsex', 'chile', 'chilean', 'chili', 'chilli', 'chillicothe', 'chilpancingo', 'chiluba', 'chimed', 'chimonetos', 'china', 'chinabound', 'chindia', 'chinese', 'chinnathambi', 'chip', 'chipped', 'chipping', 'chips', 'chipset', 'chipsets', 'chiquinho', 'chirac', 'chirchir', 'chiron', 'chisinau', 'chistian', 'chitauro', 'choice', 'choke', 'cholera', 'cholesterol', 'chonan', 'chonbuk', 'chong', 'chongqing', 'confiscation', 'conflict', 'conflicts', 'confounding', 'confront', 'confrontation', 'confronted', 'confronting', 'confused', 'confusing', 'confusion', 'congested', 'conglomerate', 'congo', 'congratulated', 'congratulations', 'congress', 'congressional', 'congressman', 'congressmen', 'conlon', 'conman', 'connected', 'connection', 'conquered', 'conquering', 'conquest', 'conroy', 'conscience', 'consciences', 'conscious', 'consciousness', 'consecutive', 'consensus', 'consent', 'consequences', 'consequently', 'conservation', 'conservative', 'consider', 'considerable', 'considerably', 'consideration', 'considered', 'considering', 'considers', 'consistency', 'consistent', 'consistently', 'consists', 'dakar', 'dakota', 'dal', 'dalai', 'dalglish', 'dalian', 'dallas', 'dally', 'damage', 'damaged', 'damaging', 'damascus', 'damein', 'damian', 'damien', 'damion', 'damm', 'damon', 'damp', 'dan', 'dana', 'dance', 'dancer', 'dancing', 'danger', 'dangerous', 'dani', 'danie', 'daniel', 'daniele', 'danielle', 'danielyan', 'danish', 'danny', 'dante', 'danut', 'daoud', 'darcy', 'dared', 'darius', 'dariusz', 'dark', 'darkbrown', 'darker', 'darlington', 'darren', 'darryll', 'darryn', 'daryll', 'das', 'dirk', 'dirkx', 'dirt', 'dirty', 'disabled', 'disagreed', 'disagreement', 'disappearance', 'disappearances', 'disappeared', 'disappears', 'disappoint', 'disappointed', 'disappointing', 'disappointment', 'disapproved', 'disarcina', 'disarm', 'disarmament', 'disarmamentchina', 'disarmed', 'disarming', 'disaster', 'disbelief', 'discarding', 'discharge', 'discharged', 'disciplinary', 'discipline', 'disclosed', 'disclosing', 'disclosure', 'discontinued', 'discount', 'discouraged', 'discovered', 'discovery', 'discrimination', 'discus', 'discuss', 'discussed', 'discussing', 'discussion', 'discussions', 'disdain', 'disease', 'diseases', 'disengagement', 'disgrace', 'disgruntled', 'eec', 'eefje', 'eelam', 'ef', 'efendija', 'effect', 'effective', 'effectively', 'effects', 'efficiency', 'effigy', 'effort', 'efforts', 'egurugbe', 'egypt', 'egyptair', 'egyptian', 'egyptians', 'eichmann', 'eiden', 'eight', 'eighteen', 'eighth', 'eighthinning', 'eighthitter', 'eighthranked', 'eighthseeded', 'eightmonthold', 'eightplus', 'eightyear', 'eightyearold', 'eightyearolds', 'eijden', 'eijkelkamp', 'eilts', 'eindhoven', 'either', 'eject', 'ejected', 'ejecting', 'ejiohuo', 'ejup', 'ek', 'ekeren', 'ekeus', 'ekimov', 'eksportfinans', 'el', 'elaborate', 'elaborating', 'explosion', 'explosions', 'explosive', 'explosives', 'explusion', 'export', 'exported', 'exporters', 'exports', 'expos', 'exposed', 'exposure', 'expresident', 'express', 'expressed', 'expresses', 'expressing', 'expression', 'expressions', 'expulsion', 'expulsions', 'extend', 'extended', 'extending', 'extends', 'extension', 'extensions', 'extensive', 'extinguished', 'extorted', 'extortion', 'extra', 'extrabase', 'extract', 'extracted', 'extraction', 'extracts', 'extradite', 'extradition', 'extrainning', 'extrajudicial', 'extraordinary', 'extras', 'extreme', 'extremely', 'extremist', 'extrusion', 'exworld', 'eye', 'eyebrows', 'fluids', 'fluminense', 'flung', 'flushed', 'flushing', 'fly', 'flyhalf', 'flying', 'fo', 'fob', 'focus', 'focused', 'focusing', 'focusnews', 'foe', 'fogarty', 'foil', 'foindu', 'fokker', 'folding', 'folha', 'follow', 'followed', 'followers', 'following', 'follows', 'followthrough', 'folly', 'fondriest', 'fong', 'fontaine', 'food', 'foods', 'foodstuffs', 'fook', 'fooled', 'foolish', 'foot', 'football', 'footing', 'footlong', 'footnotes', 'footpath', 'footscray', 'footwork', 'for', 'foray', 'forbid', 'forbidden', 'force', 'giuly', 'giunluca', 'giuseppe', 'give', 'given', 'gives', 'giving', 'gjon', 'gks', 'glaciers', 'glad', 'glafcos', 'glamorgan', 'glancing', 'glasgow', 'glass', 'gleeson', 'glen', 'glenallen', 'glenn', 'glentoran', 'glenview', 'glenwood', 'glib', 'glickman', 'glimt', 'global', 'globo', 'gloom', 'gloomstricken', 'gloomy', 'gloria', 'gloucestershire', 'glow', 'gluten', 'glyn', 'gm', 'gmbh', 'gmt', 'go', 'goahead', 'goal', 'goaless', 'goalkeeper', 'goalkeepers', 'goalkicker', 'goalless', 'goals', 'goalscorers', 'gobert', 'harwood', 'has', 'hasan', 'hasely', 'hashan', 'hashem', 'hashimoto', 'hasina', 'hassan', 'hassane', 'hassania', 'hate', 'hathaway', 'hatoyama', 'hatred', 'hattrick', 'hattricks', 'haugland', 'haul', 'haunted', 'havana', 'have', 'havel', 'haven', 'having', 'havnar', 'havre', 'hawaii', 'hawksworth', 'hawthorn', 'hcfa', 'hd', 'he', 'head', 'headache', 'headbutt', 'headbutting', 'headed', 'header', 'heading', 'headingley', 'headless', 'headley', 'headlines', 'headquarters', 'heads', 'heady', 'heal', 'healed', 'health', 'identify', 'identities', 'identity', 'ideological', 'ideologists', 'ideology', 'idiots', 'idriss', 'ieng', 'if', 'ifk', 'ifor', 'ignacio', 'ignorance', 'ignored', 'ignoring', 'ihc', 'ihlas', 'ii', 'iii', 'iiikertve', 'ijaya', 'ijaz', 'ik', 'ikimi', 'iks', 'il', 'ileana', 'ilian', 'ilie', 'iliescu', 'ilke', 'ilkka', 'ill', 'illawarra', 'illbased', 'illegal', 'illegally', 'illfated', 'illicit', 'illingworth', 'illinois', 'illiquid', 'illness', 'illusion', 'illustrious', 'ilott', 'iltalehti', 'ilyushin', 'im', 'islands', 'ismail', 'iso', 'isolated', 'isolation', 'israel', 'israeli', 'israeliplo', 'israelis', 'israelisyrian', 'israelplo', 'iss', 'issa', 'issuance', 'issue', 'issued', 'issuer', 'issues', 'issuing', 'istafanus', 'istanbul', 'it', 'italian', 'italians', 'italo', 'italy', 'itamar', 'itami', 'itartass', 'item', 'items', 'itoh', 'its', 'itself', 'iv', 'iva', 'ivac', 'ivan', 'ivanisevic', 'ivanofrankivsk', 'ivar', 'ivernia', 'ivorian', 'ivory', 'iwan', 'j', 'jaafar', 'jaap', 'jabali', 'jablonec', 'kidnapped', 'kidnappers', 'kidnapping', 'kidnaps', 'kidney', 'kids', 'kiely', 'kieran', 'kiernan', 'kiev', 'kigali', 'kijimuta', 'kikinda', 'kiksis', 'kilda', 'kill', 'killed', 'killer', 'killers', 'killing', 'killings', 'kills', 'kilmarnock', 'kilo', 'kilograms', 'kilometre', 'kilometres', 'kilos', 'kilovolt', 'kim', 'kimberley', 'kimberly', 'kimiko', 'kind', 'kindercare', 'king', 'kingdom', 'kingdome', 'kingdoms', 'kingston', 'kinkel', 'kinross', 'kinshasa', 'kipkosgei', 'kiptanui', 'kiptum', 'kirkcaldy', 'kirkland', 'kirovohrad', 'kirsten', 'lezama', 'lezion', 'lg', 'lhasa', 'lhomme', 'li', 'liabilities', 'liability', 'liaising', 'liaison', 'liam', 'liano', 'liaoning', 'libanais', 'liberal', 'liberalising', 'liberals', 'liberated', 'liberation', 'liberec', 'liberia', 'liberian', 'libero', 'liberte', 'liberties', 'liberty', 'libor', 'library', 'libya', 'libyan', 'licence', 'licences', 'license', 'licensed', 'licenses', 'licensing', 'lichtwer', 'lidl', 'lie', 'liechenstein', 'liechtenstein', 'liege', 'lien', 'lierse', 'lietti', 'lieutenant', 'life', 'lifejackets', 'lifeless', 'lifespan', 'manitoba', 'manly', 'manne', 'manner', 'mano', 'manoeuvre', 'manofthematch', 'mansfield', 'manson', 'mantilla', 'mantra', 'manual', 'manuel', 'manufacture', 'manufactured', 'manufacturer', 'manufacturers', 'manufactures', 'manufacturing', 'manuscript', 'many', 'maoist', 'maoists', 'map', 'mapei', 'mapourdit', 'maputo', 'mar', 'mar<num>', 'maracaibo', 'marathon', 'marble', 'marc', 'marcel', 'marcelo', 'march', 'marchal', 'marched', 'marchmay', 'marcin', 'marcio', 'marco', 'marcos', 'marcus', 'marcvivien', 'marek', 'margaret', 'margin', 'marginalised', 'marginally', 'minute', 'minutes', 'minutka', 'mir', 'miracle', 'miranda', 'mirhunisa', 'miriam', 'miron', 'mironivka', 'mironov', 'miroslav', 'mirren', 'mirroring', 'misael', 'misappropriating', 'miscellaneous', 'misconduct', 'misery', 'misfortune', 'misleading', 'mismanagement', 'miss', 'missed', 'missile', 'missiles', 'missing', 'mission', 'missionaries', 'missionary', 'missions', 'mississippi', 'missouri', 'mistake', 'mistakes', 'mister', 'mistr', 'mit', 'mitchell', 'mitsotakis', 'mitsubishi', 'mitsui', 'mix', 'mixed', 'mixedbloods', 'mixedrace', 'mixer', 'mixers', 'mixing', 'mixture', 'neil', 'neiland', 'neither', 'neiwand', 'nele', 'nelson', 'nemesis', 'neonazi', 'neonazism', 'nepal', 'nepalese', 'nepali', 'nephew', 'nepotism', 'neptune', 'nerve', 'nerves', 'nervous', 'nervousness', 'nervy', 'nestor', 'net', 'netanya', 'netanyahu', 'netherland', 'netherlands', 'neths', 'netting', 'network', 'networked', 'networking', 'networks', 'neuchatel', 'neufchateau', 'neumann', 'neutral', 'neutralise', 'never', 'nevertheless', 'neves', 'neville', 'nevus', 'new', 'newark', 'newball', 'newbury', 'newcastle', 'newcombe', 'newcomers', 'newcrest', 'opava', 'opel', 'open', 'opened', 'opener', 'opening', 'opens', 'openside', 'opera', 'operas', 'operate', 'operated', 'operates', 'operating', 'operation', 'operations', 'operator', 'operators', 'ophran', 'opinion', 'opium', 'oportunity', 'oppenheimer', 'opponent', 'opponents', 'opportunities', 'opportunity', 'oppose', 'opposed', 'opposes', 'opposing', 'opposite', 'opposition', 'oppositions', 'oppreses', 'opt', 'opthalmic', 'optics', 'optimised', 'optimistic', 'optimistically', 'opting', 'option', 'optionalorigin', 'options', 'or', 'oracle', 'oral', 'oran', 'orange', 'pena', 'penal', 'penalise', 'penalities', 'penalties', 'penalty', 'penberthy', 'pence', 'pending', 'pendleton', 'penetrated', 'penetrating', 'penfriend', 'peng', 'penh', 'penn', 'pennants', 'penned', 'penniless', 'pennsylvania', 'penrith', 'penrose', 'pension', 'pensioner', 'pensions', 'pentagon', 'penultimate', 'people', 'peoples', 'per', 'perceived', 'percent', 'percentage', 'percentile', 'percolating', 'perec', 'pereira', 'perelstein', 'perennial', 'peres', 'perfect', 'perfected', 'perfectly', 'perfetti', 'perform', 'performance', 'performances', 'performed', 'performer', 'performing', 'precautions', 'precedence', 'precedent', 'precepts', 'precious', 'precise', 'preclinical', 'precommunist', 'preconditions', 'predecessor', 'predecessors', 'predicament', 'predicated', 'predict', 'predictable', 'predicted', 'predicting', 'prediction', 'predictions', 'predicts', 'predominantly', 'predrosa', 'preelection', 'preelectoral', 'preexisting', 'prefect', 'prefer', 'preference', 'preferential', 'preferred', 'prefessors', 'prefix', 'pregnant', 'preliminaries', 'preliminary', 'prem', 'premature', 'prematurely', 'premier', 'premiership', 'premium', 'premiums', 'preparation', 'preparations', 'prepare', 'prepared', 'prepares', 'preparing', 'prerequisite', 'presale', 'racers', 'races', 'racial', 'racing', 'racist', 'racked', 'racket', 'rad', 'radcliffe', 'radek', 'radical', 'radicals', 'radio', 'radioactive', 'radios', 'radka', 'radnicki', 'radstrom', 'radulescu', 'raf', 'rafael', 'rafferty', 'rafiqul', 'raft', 'rafter', 'ragbag', 'raged', 'raging', 'rahman', 'rahul', 'rai', 'raichev', 'raid', 'raided', 'raids', 'rail', 'railfor', 'rails', 'railway', 'railways', 'rain', 'rainaffected', 'rainbow', 'raincurtailed', 'rainfall', 'rainier', 'raining', 'rains', 'rainshortened', 'rainsoaked', 'republican', 'republicancontrolled', 'republicaninitiated', 'republicanled', 'republicans', 'republicanwritten', 'republics', 'republika', 'repurchase', 'reputation', 'request', 'requested', 'requests', 'require', 'required', 'requirement', 'requirements', 'requires', 'requiring', 'res', 'resalat', 'rescision', 'rescue', 'rescued', 'rescuers', 'research', 'researchers', 'resembled', 'resembling', 'reservations', 'reserve', 'reserves', 'reservoir', 'reshaped', 'reshuffle', 'residence', 'residency', 'resident', 'residential', 'residents', 'residues', 'resign', 'resignation', 'resigned', 'resigning', 'resigns', 'resistance', 'resistant', 'resolute', 'resolution', 'ruuttu', 'ruxandra', 'rwanda', 'rwandan', 'ryan', 'ryder', 'rydz', 'ryo', 'rysich', 'ryszard', 'ryutaro', 's', 's<num>', 's<num>sep<num>', 'sa', 'saarbruecken', 'sabag', 'sabatini', 'sabbagh', 'sabine', 'saboteurs', 'sabotzik', 'sabourin', 'sacchi', 'sachin', 'sachs', 'sack', 'sacked', 'sacking', 'sacks', 'sacramento', 'sacred', 'sacrifice', 'sacrificed', 'sad', 'sadam', 'saddam', 'sadiki', 'sadistic', 'sadmasochistic', 'sadness', 'sadova', 'saeed', 'safe', 'safeguarded', 'safely', 'safer', 'safety', 'safrican', 'saggers', 'settles', 'settling', 'settop', 'setubal', 'seve', 'seven', 'sevenday', 'sevengame', 'sevenhitter', 'seveninning', 'sevenmonth', 'sevennewspaper', 'sevenpoint', 'seventh', 'seventhseeded', 'seventy', 'sevenyear', 'sevenyearold', 'several', 'severance', 'severe', 'severely', 'severin', 'seville', 'sewa', 'sewers', 'sewing', 'sex', 'sexabuse', 'sexandmurder', 'sexual', 'sexually', 'sexy', 'seychelles', 'seychellois', 'sfeir', 'sforza', 'sg', 'sgt', 'shaba', 'shabana', 'shabazov', 'shabir', 'shabwa', 'shack', 'shacks', 'shadab', 'shade', 'shadow', 'shaft', 'socha', 'sochi', 'social', 'socialdemocratic', 'socialism', 'socialist', 'socialists', 'societies', 'society', 'sociological', 'sociology', 'sofar', 'sofia', 'soft', 'softbank', 'softer', 'softs', 'software', 'sohail', 'soil', 'soir', 'sokol', 'sokolovska', 'sokoto', 'solanki', 'solano', 'sold', 'soldier', 'soldiers', 'sole', 'solely', 'solemn', 'soliciting', 'solid', 'solidarity', 'solidere', 'solidify', 'solitary', 'solo', 'solovyov', 'solskjaer', 'solution', 'solutions', 'solve', 'solved', 'solvent', 'somalia', 'somavia', 'some', 'somebody', 'stress', 'stressed', 'stressing', 'stretch', 'stretched', 'stretchered', 'stretching', 'stricker', 'strict', 'stride', 'strides', 'strife', 'strike', 'strikeouts', 'striker', 'strikers', 'strikes', 'striking', 'string', 'stringent', 'strip', 'stripping', 'strips', 'striving', 'strobe', 'stroked', 'strokes', 'stromme', 'stromsgodset', 'strong', 'strongdollar', 'stronger', 'strongerthanexpected', 'strongest', 'strongly', 'strongman', 'stroud', 'struck', 'structure', 'structured', 'structures', 'struggle', 'struggled', 'struggling', 'strumming', 'strunz', 'struver', 'strydom', 'stuart', 'stubborn', 'team', 'teammates', 'teams', 'teargas', 'tearing', 'teasing', 'tebbutt', 'technical', 'technicalities', 'technically', 'technicians', 'technique', 'techniques', 'technological', 'technologies', 'technologists', 'technology', 'technologybased', 'techs', 'tee', 'teemu', 'teen', 'teenage', 'teenaged', 'teenager', 'teenagers', 'teeth', 'teething', 'teetotaller', 'tegel', 'tegucigalpa', 'teguh', 'tehran', 'teichmann', 'teixeira', 'tekstilshchik', 'tekstilshik', 'tel', 'tel<num>', 'telecom', 'telecomm', 'telecommunciations', 'telecommunications', 'telecoms', 'telegraph', 'telekom', 'telephone', 'telephoned', 'telephones', 'telethon', 'transmitted', 'transmitter', 'transplanting', 'transport', 'transportation', 'transporting', 'transvaal', 'traore', 'trap', 'trapped', 'trashed', 'trauma', 'travel', 'travelled', 'travelling', 'travels', 'travis', 'trawler', 'trawlers', 'trax', 'treacherous', 'treason', 'treasure', 'treasuries', 'treasury', 'treat', 'treated', 'treating', 'treatment', 'treatments', 'treats', 'treaty', 'treble', 'tree', 'trees', 'trek', 'tremendous', 'tremila', 'trend', 'trends', 'treng', 'trenidad', 'trent', 'trepca', 'tretschok', 'trevelyan', 'trial', 'trials', 'tribal', 'tribe', 'valle', 'valletta', 'valley', 'valuable', 'valuation', 'value', 'valueadded', 'valued', 'values', 'valuing', 'van', 'vancouver', 'vancouverbased', 'vandenbroucke', 'vanderbijlpark', 'vanlandingham', 'vaquero', 'varazdin', 'variable', 'variation', 'varied', 'variety', 'various', 'varteks', 'vasas', 'vasco', 'vasilopoulos', 'vass', 'vassiliy', 'vast', 'vastly', 'vat', 'vatican', 'vaughan', 'vaughn', 'vault', 'vavuniya', 'vdh', 've', 'veer', 'veerakesari', 'veerle', 'vega', 'vegas', 'vegetables', 'vegetarian', 'veggerby', 'veglio', 'vehement', 'vehemently', 'wheatrains', 'wheats', 'wheel', 'wheelchair', 'wheels', 'when', 'where', 'whereabouts', 'whereas', 'wherever', 'whether', 'which', 'while', 'whilst', 'whipped', 'whirlwind', 'whisk', 'whisker', 'whistle', 'whistlestop', 'white', 'whitehurst', 'whiteman', 'whites', 'whitewash', 'whitewater', 'whitlinger', 'whittall', 'whittier', 'whittingham', 'who', 'whoever', 'whole', 'wholesale', 'wholesaler', 'wholly', 'whollyowned', 'whom', 'whoops', 'whopping', 'whose', 'why', 'wicket', 'wicketkeeper', 'wickets', 'wickman', 'wicky', 'widad', 'wide', 'widely']\n"
          ]
        }
      ],
      "source": [
        "vocab = Vocabulary(clean_train)\n",
        "wordlist = list(vocab.index_to_word.values())\n",
        "wordlist = [wordlist[i:i+50] for i in range(200, len(wordlist), 500)]\n",
        "res = []\n",
        "for L in wordlist:\n",
        "    res += L\n",
        "print(res)"
      ]
    },
    {
      "cell_type": "code",
      "execution_count": 102,
      "metadata": {
        "colab": {
          "base_uri": "https://localhost:8080/"
        },
        "id": "uc0mUNaAsFMU",
        "outputId": "f7600d6f-76b3-4bb7-9837-ae9a890ec06e"
      },
      "outputs": [
        {
          "name": "stdout",
          "output_type": "stream",
          "text": [
            "Epoch 0 starting\n",
            "Epoch 1 starting\n",
            "Epoch 2 starting\n",
            "Epoch 3 starting\n",
            "Epoch 4 starting\n",
            "Epoch 5 starting\n",
            "Epoch 6 starting\n",
            "Epoch 7 starting\n",
            "Epoch 8 starting\n",
            "Epoch 9 starting\n"
          ]
        }
      ],
      "source": [
        "embeddings = Embeddings(vocab, learning_rate=1e-3)\n",
        "embeddings.train(train_sentences)"
      ]
    },
    {
      "cell_type": "code",
      "execution_count": 100,
      "metadata": {},
      "outputs": [],
      "source": [
        "words = [\"accomplish\", \"achieve\", \"accusation\", \"acquittal\", \"accountant\", \"accounts\", \"angry\", \"happy\", \"acre\", \"kilometre\", \"animal\", \"human\", \"acquisition\", \"loss\", \"accredited\", \"accurate\", \"andrea\", \"andrew\", \"adventure\", \"routine\"]"
      ]
    },
    {
      "cell_type": "code",
      "execution_count": 103,
      "metadata": {},
      "outputs": [
        {
          "data": {
            "image/png": "[encoded data removed]",
            "text/plain": [
              "<Figure size 640x480 with 2 Axes>"
            ]
          },
          "metadata": {},
          "output_type": "display_data"
        }
      ],
      "source": [
        "import seaborn as sns\n",
        "\n",
        "def cosine_similarity(vec1, vec2):\n",
        "    return np.dot(vec1, vec2) / (np.linalg.norm(vec1) * np.linalg.norm(vec2))\n",
        "\n",
        "similarity_matrix = np.zeros((len(words), len(words)))\n",
        "\n",
        "for i, word1 in enumerate(words):\n",
        "    for j, word2 in enumerate(words):\n",
        "        vec1 = embeddings.word_to_embedding(word1)\n",
        "        vec2 = embeddings.word_to_embedding(word2)\n",
        "        similarity_matrix[i, j] = cosine_similarity(vec1, vec2)\n",
        "\n",
        "sns.heatmap(similarity_matrix, annot=False, fmt=\".2f\", cmap='coolwarm', xticklabels=words, yticklabels=words)\n",
        "plt.title('Cosine Similarity between Words')\n",
        "plt.xlabel('Words')\n",
        "plt.ylabel('Words')\n",
        "plt.show()\n"
      ]
    },
    {
      "cell_type": "code",
      "execution_count": 28,
      "metadata": {
        "id": "4ZSdJWrosFMU"
      },
      "outputs": [],
      "source": [
        "def embed_and_pad_sentences(sentences, max_length, embeddings):\n",
        "    padded_sentences = []\n",
        "    for sentence in sentences:\n",
        "        embedded_sentence = [embeddings.word_to_embedding(word) for word in sentence]\n",
        "        padding_length = max_length - len(embedded_sentence)\n",
        "        padding = [np.zeros(embeddings.vector_size) for _ in range(padding_length)]\n",
        "        embedded_sentence.extend(padding)\n",
        "        padded_sentences.append(embedded_sentence)\n",
        "    return np.array(padded_sentences)"
      ]
    },
    {
      "cell_type": "code",
      "execution_count": 109,
      "metadata": {
        "id": "4ebCZa51sFMV"
      },
      "outputs": [],
      "source": [
        "max_length = max([len(sentence) for sentence in train_sentences])\n",
        "train_sentences_embeddings = embed_and_pad_sentences(train_sentences, max_length, embeddings)\n",
        "testa_sentences_embeddings = embed_and_pad_sentences(testa_sentences, max_length, embeddings)\n",
        "testb_sentences_embeddings = embed_and_pad_sentences(testb_sentences, max_length, embeddings)"
      ]
    },
    {
      "cell_type": "code",
      "execution_count": 110,
      "metadata": {
        "colab": {
          "base_uri": "https://localhost:8080/"
        },
        "id": "xXnbuY8gsFMV",
        "outputId": "70961a51-ad09-4b9f-b657-8c749cd028dc"
      },
      "outputs": [
        {
          "name": "stdout",
          "output_type": "stream",
          "text": [
            "[[ 1.19631068e-02  5.22147491e-02  2.83654337e-03 ...  3.50313379e-02\n",
            "   8.12866869e-03 -1.47267952e-02]\n",
            " [-5.25679071e-01  5.32444480e-01 -2.53130883e-01 ...  5.96071872e-01\n",
            "   1.10261015e+00  5.38494850e-02]\n",
            " [ 1.88038202e-02 -9.02890489e-03  9.07736719e-03 ...  9.14509694e-03\n",
            "  -7.03883025e-04 -1.53230539e-02]\n",
            " ...\n",
            " [ 0.00000000e+00  0.00000000e+00  0.00000000e+00 ...  0.00000000e+00\n",
            "   0.00000000e+00  0.00000000e+00]\n",
            " [ 0.00000000e+00  0.00000000e+00  0.00000000e+00 ...  0.00000000e+00\n",
            "   0.00000000e+00  0.00000000e+00]\n",
            " [ 0.00000000e+00  0.00000000e+00  0.00000000e+00 ...  0.00000000e+00\n",
            "   0.00000000e+00  0.00000000e+00]]\n"
          ]
        }
      ],
      "source": [
        "print(train_sentences_embeddings[0])"
      ]
    },
    {
      "cell_type": "markdown",
      "metadata": {
        "id": "-ZF4KoAisFMV"
      },
      "source": [
        "Preparing label sequences"
      ]
    },
    {
      "cell_type": "code",
      "execution_count": 111,
      "metadata": {
        "id": "ngo-prLlsFMV"
      },
      "outputs": [],
      "source": [
        "def prepare_labels_from_df(df, padding_label=-1, maxlen=None):\n",
        "    grouped = df.groupby('Sentence #')['Tag'].apply(list)\n",
        "\n",
        "    if maxlen is None:\n",
        "        maxlen = max(grouped.apply(len))\n",
        "\n",
        "    label_sequences = []\n",
        "\n",
        "    for tags in grouped:\n",
        "        label_sequence = [1 if tag == 'I-PER' else 0 for tag in tags]\n",
        "        label_sequence = label_sequence[:maxlen]\n",
        "        label_sequence += [padding_label] * (maxlen - len(label_sequence))\n",
        "        label_sequences.append(label_sequence)\n",
        "\n",
        "    return np.array(label_sequences)\n"
      ]
    },
    {
      "cell_type": "code",
      "execution_count": 112,
      "metadata": {
        "id": "hS0q8ICGsFMV"
      },
      "outputs": [],
      "source": [
        "train_labels = prepare_labels_from_df(clean_train)\n",
        "testa_labels = prepare_labels_from_df(clean_testa, maxlen=len(train_labels[0]))\n",
        "testb_labels = prepare_labels_from_df(clean_testb, maxlen=len(train_labels[0]))"
      ]
    },
    {
      "cell_type": "code",
      "execution_count": 113,
      "metadata": {
        "colab": {
          "base_uri": "https://localhost:8080/"
        },
        "id": "rIPwlxvWsFMV",
        "outputId": "87b214d5-5e3a-431b-b58b-d17ecc4c6903"
      },
      "outputs": [
        {
          "name": "stdout",
          "output_type": "stream",
          "text": [
            "(97930, 89)\n",
            "(97930, 89, 50)\n"
          ]
        }
      ],
      "source": [
        "print(train_labels.shape)\n",
        "print(train_sentences_embeddings.shape)"
      ]
    },
    {
      "cell_type": "code",
      "execution_count": 104,
      "metadata": {},
      "outputs": [
        {
          "name": "stdout",
          "output_type": "stream",
          "text": [
            "['germany', 's', 'representative', 'to', 'the', 'european', 'union', 's', 'veterinary', 'committee', 'werner', 'zwingmann', 'said', 'on', 'wednesday', 'consumers', 'should', 'buy', 'sheepmeat', 'from', 'countries', 'other', 'than', 'britain', 'until', 'the', 'scientific', 'advice', 'was', 'clearer']\n"
          ]
        }
      ],
      "source": [
        "print(train_sentences[4])"
      ]
    },
    {
      "cell_type": "code",
      "execution_count": 114,
      "metadata": {
        "colab": {
          "base_uri": "https://localhost:8080/"
        },
        "id": "_OWLUyousFMV",
        "outputId": "4006a2ad-07fd-4c89-fece-486754dcff7b"
      },
      "outputs": [
        {
          "name": "stdout",
          "output_type": "stream",
          "text": [
            "[ 0  0  0  0  0  0  0  0  0  0  1  1  0  0  0  0  0  0  0  0  0  0  0  0\n",
            "  0  0  0  0  0  0 -1 -1 -1 -1 -1 -1 -1 -1 -1 -1 -1 -1 -1 -1 -1 -1 -1 -1\n",
            " -1 -1 -1 -1 -1 -1 -1 -1 -1 -1 -1 -1 -1 -1 -1 -1 -1 -1 -1 -1 -1 -1 -1 -1\n",
            " -1 -1 -1 -1 -1 -1 -1 -1 -1 -1 -1 -1 -1 -1 -1 -1 -1]\n"
          ]
        }
      ],
      "source": [
        "print(train_labels[4])"
      ]
    },
    {
      "cell_type": "markdown",
      "metadata": {
        "id": "t1LLyFH5sFMW"
      },
      "source": [
        "Building model architecture"
      ]
    },
    {
      "cell_type": "code",
      "execution_count": 115,
      "metadata": {
        "id": "OZgI9-XWsFMW"
      },
      "outputs": [],
      "source": [
        "import tensorflow as tf\n",
        "from tensorflow.keras.models import Sequential\n",
        "from tensorflow.keras.layers import LSTM, GRU, Dense, SimpleRNN, Input, Masking\n",
        "\n",
        "def create_model(model_type='RNN'):\n",
        "    model = Sequential()\n",
        "    model.add(Input(shape=(max_length, embeddings.vectors.shape[1])))\n",
        "    model.add(Masking(mask_value=0.0))\n",
        "\n",
        "    if model_type == 'RNN':\n",
        "        model.add(SimpleRNN(64, return_sequences=True))\n",
        "    elif model_type == 'LSTM':\n",
        "        model.add(LSTM(64, return_sequences=True))\n",
        "    elif model_type == 'GRU':\n",
        "        model.add(GRU(64, return_sequences=True))\n",
        "\n",
        "    model.add(Dense(1, activation='sigmoid'))\n",
        "\n",
        "    return model"
      ]
    },
    {
      "cell_type": "markdown",
      "metadata": {
        "id": "pzavUN_csFMc"
      },
      "source": [
        "In order to mask padded values when calculating the loss function, we can use weight sampling"
      ]
    },
    {
      "cell_type": "code",
      "execution_count": 116,
      "metadata": {
        "id": "LJNjyR4nsFMd"
      },
      "outputs": [],
      "source": [
        "def generate_sample_weights(labels, pad_value=-1):\n",
        "    # Generate weights: 0 for pad_value, 1 otherwise\n",
        "    weights = np.where(labels == pad_value, 0, 1)\n",
        "    return weights"
      ]
    },
    {
      "cell_type": "code",
      "execution_count": 117,
      "metadata": {
        "id": "RAUjoEzxsFMd"
      },
      "outputs": [],
      "source": [
        "weights_train = generate_sample_weights(train_labels)\n",
        "weights_test = generate_sample_weights(testa_labels)\n",
        "weights_validation = generate_sample_weights(testb_labels)"
      ]
    },
    {
      "cell_type": "code",
      "execution_count": 33,
      "metadata": {},
      "outputs": [
        {
          "data": {
            "text/plain": [
              "array([1, 1, 1, 1, 1, 1, 1, 1, 1, 1, 1, 1, 1, 1, 1, 1, 1, 1, 1, 1, 1, 1,\n",
              "       1, 1, 1, 1, 1, 1, 1, 1, 0, 0, 0, 0, 0, 0, 0, 0, 0, 0, 0, 0, 0, 0,\n",
              "       0, 0, 0, 0, 0, 0, 0, 0, 0, 0, 0, 0, 0, 0, 0, 0, 0, 0, 0, 0, 0, 0,\n",
              "       0, 0, 0, 0, 0, 0, 0, 0, 0, 0, 0, 0, 0, 0, 0, 0, 0, 0, 0, 0, 0, 0,\n",
              "       0])"
            ]
          },
          "execution_count": 33,
          "metadata": {},
          "output_type": "execute_result"
        }
      ],
      "source": [
        "weights_train[4]"
      ]
    },
    {
      "cell_type": "markdown",
      "metadata": {
        "id": "rC2ucCsysFMd"
      },
      "source": [
        "Adjusting learning rate"
      ]
    },
    {
      "cell_type": "code",
      "execution_count": 34,
      "metadata": {
        "id": "TTwH8P4YsFMd"
      },
      "outputs": [],
      "source": [
        "def controlled_tweak_learning_rate(x_train, y_train, model_fn, model_type, weights_train, learning_rates, epochs_per_lr=1):\n",
        "    losses = []\n",
        "    lrs = []\n",
        "\n",
        "    for lr in learning_rates:\n",
        "        model = model_fn(model_type)  # Rebuild model to reset weights\n",
        "        optimizer = tf.keras.optimizers.Adam(learning_rate=lr)\n",
        "        model.compile(optimizer=optimizer, loss='binary_crossentropy', metrics=[tf.keras.metrics.BinaryAccuracy(), tf.keras.metrics.Recall()])\n",
        "        history = model.fit(x_train,y_train, sample_weight=weights_train, epochs=epochs_per_lr)\n",
        "\n",
        "        # Append average loss over epochs for current learning rate\n",
        "        avg_loss = np.mean(history.history['loss'])\n",
        "        losses.append(avg_loss)\n",
        "        lrs.append(lr)\n",
        "\n",
        "    # Plotting\n",
        "    plt.figure(figsize=(10, 6))\n",
        "    plt.semilogx(lrs, losses)\n",
        "    plt.xlabel(\"Learning Rate\")\n",
        "    plt.ylabel(\"Average Loss\")\n",
        "    plt.title(\"Learning Rate vs. Average Loss\")\n",
        "    plt.grid(True)\n",
        "    plt.show()\n",
        "\n",
        "    return losses"
      ]
    },
    {
      "cell_type": "markdown",
      "metadata": {
        "id": "_-etGGg5sFMd"
      },
      "source": [
        "We can now start testing the performance of various recurrent neural network architectures, starting with simple RNNs"
      ]
    },
    {
      "cell_type": "code",
      "execution_count": 118,
      "metadata": {
        "id": "cj50Pt-pwdNp"
      },
      "outputs": [],
      "source": [
        "train_labels = np.expand_dims(train_labels, axis=-1)\n",
        "weights_train = np.expand_dims(weights_train, axis=-1)"
      ]
    },
    {
      "cell_type": "code",
      "execution_count": 36,
      "metadata": {
        "colab": {
          "base_uri": "https://localhost:8080/",
          "height": 1000
        },
        "id": "u0DA71-xsFMd",
        "outputId": "625873e0-7f1d-471b-df50-5f1261a53b82"
      },
      "outputs": [
        {
          "name": "stdout",
          "output_type": "stream",
          "text": [
            "\u001b[1m10/10\u001b[0m \u001b[32m━━━━━━━━━━━━━━━━━━━━\u001b[0m\u001b[37m\u001b[0m \u001b[1m3s\u001b[0m 36ms/step - binary_accuracy: 0.0830 - loss: 0.7007 - recall: 0.5048\n",
            "\u001b[1m10/10\u001b[0m \u001b[32m━━━━━━━━━━━━━━━━━━━━\u001b[0m\u001b[37m\u001b[0m \u001b[1m2s\u001b[0m 19ms/step - binary_accuracy: 0.0647 - loss: 0.7124 - recall_1: 0.5415\n",
            "\u001b[1m10/10\u001b[0m \u001b[32m━━━━━━━━━━━━━━━━━━━━\u001b[0m\u001b[37m\u001b[0m \u001b[1m2s\u001b[0m 17ms/step - binary_accuracy: 0.0989 - loss: 0.6913 - recall_2: 0.4510\n",
            "\u001b[1m10/10\u001b[0m \u001b[32m━━━━━━━━━━━━━━━━━━━━\u001b[0m\u001b[37m\u001b[0m \u001b[1m2s\u001b[0m 12ms/step - binary_accuracy: 0.0895 - loss: 0.7022 - recall_3: 0.4780\n",
            "\u001b[1m10/10\u001b[0m \u001b[32m━━━━━━━━━━━━━━━━━━━━\u001b[0m\u001b[37m\u001b[0m \u001b[1m2s\u001b[0m 12ms/step - binary_accuracy: 0.0881 - loss: 0.6941 - recall_4: 0.3934\n",
            "\u001b[1m10/10\u001b[0m \u001b[32m━━━━━━━━━━━━━━━━━━━━\u001b[0m\u001b[37m\u001b[0m \u001b[1m2s\u001b[0m 11ms/step - binary_accuracy: 0.0867 - loss: 0.7006 - recall_5: 0.4826\n",
            "\u001b[1m10/10\u001b[0m \u001b[32m━━━━━━━━━━━━━━━━━━━━\u001b[0m\u001b[37m\u001b[0m \u001b[1m2s\u001b[0m 14ms/step - binary_accuracy: 0.0977 - loss: 0.7002 - recall_6: 0.4776\n",
            "\u001b[1m10/10\u001b[0m \u001b[32m━━━━━━━━━━━━━━━━━━━━\u001b[0m\u001b[37m\u001b[0m \u001b[1m2s\u001b[0m 14ms/step - binary_accuracy: 0.0795 - loss: 0.7022 - recall_7: 0.4678\n",
            "\u001b[1m10/10\u001b[0m \u001b[32m━━━━━━━━━━━━━━━━━━━━\u001b[0m\u001b[37m\u001b[0m \u001b[1m2s\u001b[0m 17ms/step - binary_accuracy: 0.0980 - loss: 0.6933 - recall_8: 0.3812\n",
            "\u001b[1m10/10\u001b[0m \u001b[32m━━━━━━━━━━━━━━━━━━━━\u001b[0m\u001b[37m\u001b[0m \u001b[1m2s\u001b[0m 19ms/step - binary_accuracy: 0.0752 - loss: 0.7156 - recall_9: 0.5391\n",
            "\u001b[1m10/10\u001b[0m \u001b[32m━━━━━━━━━━━━━━━━━━━━\u001b[0m\u001b[37m\u001b[0m \u001b[1m2s\u001b[0m 13ms/step - binary_accuracy: 0.0716 - loss: 0.7043 - recall_10: 0.5084\n",
            "\u001b[1m10/10\u001b[0m \u001b[32m━━━━━━━━━━━━━━━━━━━━\u001b[0m\u001b[37m\u001b[0m \u001b[1m3s\u001b[0m 14ms/step - binary_accuracy: 0.0764 - loss: 0.7081 - recall_11: 0.5045\n",
            "\u001b[1m10/10\u001b[0m \u001b[32m━━━━━━━━━━━━━━━━━━━━\u001b[0m\u001b[37m\u001b[0m \u001b[1m2s\u001b[0m 14ms/step - binary_accuracy: 0.1002 - loss: 0.6789 - recall_12: 0.3842\n",
            "\u001b[1m10/10\u001b[0m \u001b[32m━━━━━━━━━━━━━━━━━━━━\u001b[0m\u001b[37m\u001b[0m \u001b[1m2s\u001b[0m 13ms/step - binary_accuracy: 0.1356 - loss: 0.5548 - recall_13: 0.1745\n",
            "\u001b[1m10/10\u001b[0m \u001b[32m━━━━━━━━━━━━━━━━━━━━\u001b[0m\u001b[37m\u001b[0m \u001b[1m2s\u001b[0m 14ms/step - binary_accuracy: 0.1364 - loss: 0.4653 - recall_14: 0.1515\n",
            "\u001b[1m10/10\u001b[0m \u001b[32m━━━━━━━━━━━━━━━━━━━━\u001b[0m\u001b[37m\u001b[0m \u001b[1m2s\u001b[0m 12ms/step - binary_accuracy: 0.1371 - loss: 0.4070 - recall_15: 0.1572\n",
            "\u001b[1m10/10\u001b[0m \u001b[32m━━━━━━━━━━━━━━━━━━━━\u001b[0m\u001b[37m\u001b[0m \u001b[1m2s\u001b[0m 15ms/step - binary_accuracy: 0.1029 - loss: 0.7457 - recall_16: 0.3352\n",
            "\u001b[1m10/10\u001b[0m \u001b[32m━━━━━━━━━━━━━━━━━━━━\u001b[0m\u001b[37m\u001b[0m \u001b[1m2s\u001b[0m 13ms/step - binary_accuracy: 0.1164 - loss: 0.5362 - recall_17: 0.2554\n",
            "\u001b[1m10/10\u001b[0m \u001b[32m━━━━━━━━━━━━━━━━━━━━\u001b[0m\u001b[37m\u001b[0m \u001b[1m2s\u001b[0m 13ms/step - binary_accuracy: 0.0894 - loss: 1.5849 - recall_18: 0.3696\n",
            "\u001b[1m10/10\u001b[0m \u001b[32m━━━━━━━━━━━━━━━━━━━━\u001b[0m\u001b[37m\u001b[0m \u001b[1m3s\u001b[0m 13ms/step - binary_accuracy: 0.0894 - loss: 5.5478 - recall_19: 0.4452\n"
          ]
        },
        {
          "data": {
            "image/png": "[encoded data removed]",
            "text/plain": [
              "<Figure size 1000x600 with 1 Axes>"
            ]
          },
          "metadata": {},
          "output_type": "display_data"
        },
        {
          "data": {
            "text/plain": [
              "[0.6990346312522888,\n",
              " 0.7120048999786377,\n",
              " 0.6920188665390015,\n",
              " 0.7008870244026184,\n",
              " 0.6934316754341125,\n",
              " 0.7012273669242859,\n",
              " 0.6992489695549011,\n",
              " 0.6996262669563293,\n",
              " 0.6956729888916016,\n",
              " 0.7105398774147034,\n",
              " 0.700537383556366,\n",
              " 0.6973263025283813,\n",
              " 0.6401058435440063,\n",
              " 0.4950259327888489,\n",
              " 0.3938940763473511,\n",
              " 0.3110848367214203,\n",
              " 0.6975699067115784,\n",
              " 0.42626580595970154,\n",
              " 1.537776231765747,\n",
              " 5.333993434906006]"
            ]
          },
          "execution_count": 36,
          "metadata": {},
          "output_type": "execute_result"
        }
      ],
      "source": [
        "reduced_train_set = train_sentences_embeddings[:300]\n",
        "reduced_train_labels = train_labels[:300]\n",
        "reduced_weights_train = weights_train[:300]\n",
        "\n",
        "# We perform the learning rate test on the reduced dataset\n",
        "controlled_tweak_learning_rate(reduced_train_set, reduced_train_labels, create_model, \"RNN\", reduced_weights_train, np.logspace(start=-8,stop=0,num=20,base=10))"
      ]
    },
    {
      "cell_type": "markdown",
      "metadata": {
        "id": "i2yOC0wEyQ2M"
      },
      "source": [
        "Training the model"
      ]
    },
    {
      "cell_type": "code",
      "execution_count": 38,
      "metadata": {
        "colab": {
          "base_uri": "https://localhost:8080/",
          "height": 200
        },
        "id": "4ORW1oj-0iBc",
        "outputId": "2870ebf3-75dd-4f8b-ce2e-7a893465a1f0"
      },
      "outputs": [
        {
          "name": "stdout",
          "output_type": "stream",
          "text": [
            "Epoch 1/10\n",
            "\u001b[1m1531/1531\u001b[0m \u001b[32m━━━━━━━━━━━━━━━━━━━━\u001b[0m\u001b[37m\u001b[0m \u001b[1m55s\u001b[0m 34ms/step - accuracy: 0.1333 - loss: 0.2778\n",
            "Epoch 2/10\n",
            "\u001b[1m1531/1531\u001b[0m \u001b[32m━━━━━━━━━━━━━━━━━━━━\u001b[0m\u001b[37m\u001b[0m \u001b[1m54s\u001b[0m 35ms/step - accuracy: 0.1345 - loss: 0.2013\n",
            "Epoch 3/10\n",
            "\u001b[1m1531/1531\u001b[0m \u001b[32m━━━━━━━━━━━━━━━━━━━━\u001b[0m\u001b[37m\u001b[0m \u001b[1m51s\u001b[0m 33ms/step - accuracy: 0.1338 - loss: 0.1891\n",
            "Epoch 4/10\n",
            "\u001b[1m1531/1531\u001b[0m \u001b[32m━━━━━━━━━━━━━━━━━━━━\u001b[0m\u001b[37m\u001b[0m \u001b[1m49s\u001b[0m 32ms/step - accuracy: 0.1349 - loss: 0.1715\n",
            "Epoch 5/10\n",
            "\u001b[1m1531/1531\u001b[0m \u001b[32m━━━━━━━━━━━━━━━━━━━━\u001b[0m\u001b[37m\u001b[0m \u001b[1m50s\u001b[0m 32ms/step - accuracy: 0.1355 - loss: 0.1547\n",
            "Epoch 6/10\n",
            "\u001b[1m1531/1531\u001b[0m \u001b[32m━━━━━━━━━━━━━━━━━━━━\u001b[0m\u001b[37m\u001b[0m \u001b[1m49s\u001b[0m 32ms/step - accuracy: 0.1372 - loss: 0.1375\n",
            "Epoch 7/10\n",
            "\u001b[1m1531/1531\u001b[0m \u001b[32m━━━━━━━━━━━━━━━━━━━━\u001b[0m\u001b[37m\u001b[0m \u001b[1m51s\u001b[0m 33ms/step - accuracy: 0.1371 - loss: 0.1257\n",
            "Epoch 8/10\n",
            "\u001b[1m1531/1531\u001b[0m \u001b[32m━━━━━━━━━━━━━━━━━━━━\u001b[0m\u001b[37m\u001b[0m \u001b[1m49s\u001b[0m 32ms/step - accuracy: 0.1375 - loss: 0.1131\n",
            "Epoch 9/10\n",
            "\u001b[1m1531/1531\u001b[0m \u001b[32m━━━━━━━━━━━━━━━━━━━━\u001b[0m\u001b[37m\u001b[0m \u001b[1m53s\u001b[0m 34ms/step - accuracy: 0.1374 - loss: 0.1044\n",
            "Epoch 10/10\n",
            "\u001b[1m1531/1531\u001b[0m \u001b[32m━━━━━━━━━━━━━━━━━━━━\u001b[0m\u001b[37m\u001b[0m \u001b[1m51s\u001b[0m 33ms/step - accuracy: 0.1386 - loss: 0.0966\n"
          ]
        }
      ],
      "source": [
        "model = create_model(\"RNN\")\n",
        "optimizer = tf.keras.optimizers.Adam(learning_rate=1e-3)\n",
        "model.compile(optimizer=optimizer, loss='binary_crossentropy', metrics=['accuracy'])\n",
        "history = model.fit(train_sentences_embeddings, train_labels, sample_weight=weights_train, epochs=10, batch_size=64)"
      ]
    },
    {
      "cell_type": "code",
      "execution_count": 39,
      "metadata": {},
      "outputs": [
        {
          "name": "stdout",
          "output_type": "stream",
          "text": [
            "\u001b[1m710/710\u001b[0m \u001b[32m━━━━━━━━━━━━━━━━━━━━\u001b[0m\u001b[37m\u001b[0m \u001b[1m6s\u001b[0m 9ms/step\n",
            "Filtered Predictions: [0 0 0 ... 0 0 0]\n",
            "Filtered True Labels: [0 0 0 ... 0 0 0]\n"
          ]
        }
      ],
      "source": [
        "testa_predictions = model.predict(np.array(testa_sentences_embeddings))\n",
        "\n",
        "# Flatten the predictions and labels to make them easier to filter and evaluate\n",
        "testa_predictions_flat = testa_predictions.flatten()\n",
        "testa_labels_flat = np.array(testa_labels).flatten()\n",
        "\n",
        "# Filter out the padding tokens (where labels are -1)\n",
        "mask = testa_labels_flat != -1\n",
        "filtered_predictions = testa_predictions_flat[mask]\n",
        "filtered_labels = testa_labels_flat[mask]\n",
        "\n",
        "# Since this is a classification task, convert probabilities to binary predictions\n",
        "predicted_classes = (filtered_predictions > 0.5).astype(int)\n",
        "\n",
        "# Sample output, replace this with your actual data and model for execution\n",
        "print(\"Filtered Predictions:\", predicted_classes)\n",
        "print(\"Filtered True Labels:\", filtered_labels)\n"
      ]
    },
    {
      "cell_type": "code",
      "execution_count": 41,
      "metadata": {},
      "outputs": [
        {
          "name": "stdout",
          "output_type": "stream",
          "text": [
            "Accuracy: 0.9323142361720947\n",
            "Precision: 0.5208413001912046\n",
            "Recall: 0.4341727765380937\n",
            "F1 Score: 0.47357440890125174\n"
          ]
        },
        {
          "ename": "",
          "evalue": "",
          "output_type": "error",
          "traceback": [
            "\u001b[1;31mThe Kernel crashed while executing code in the current cell or a previous cell. \n",
            "\u001b[1;31mPlease review the code in the cell(s) to identify a possible cause of the failure. \n",
            "\u001b[1;31mClick <a href='https://aka.ms/vscodeJupyterKernelCrash'>here</a> for more info. \n",
            "\u001b[1;31mView Jupyter <a href='command:jupyter.viewOutput'>log</a> for further details."
          ]
        }
      ],
      "source": [
        "from sklearn.metrics import precision_score, recall_score, f1_score, accuracy_score\n",
        "\n",
        "accuracy = accuracy_score(filtered_labels, predicted_classes)\n",
        "precision = precision_score(filtered_labels, predicted_classes)\n",
        "recall = recall_score(filtered_labels, predicted_classes)\n",
        "f1 = f1_score(filtered_labels, predicted_classes)\n",
        "\n",
        "\n",
        "print(\"Accuracy:\", accuracy)\n",
        "print(\"Precision:\", precision)\n",
        "print(\"Recall:\", recall)\n",
        "print(\"F1 Score:\", f1)"
      ]
    },
    {
      "cell_type": "markdown",
      "metadata": {},
      "source": [
        "Formalizing this process"
      ]
    },
    {
      "cell_type": "code",
      "execution_count": 119,
      "metadata": {},
      "outputs": [],
      "source": [
        "def assess_performance(model_type):\n",
        "    model = create_model(model_type)\n",
        "    optimizer = tf.keras.optimizers.Adam(learning_rate=1e-3)\n",
        "    model.compile(optimizer=optimizer, loss='binary_crossentropy', metrics=['accuracy'])\n",
        "    history = model.fit(train_sentences_embeddings, train_labels, sample_weight=weights_train, epochs=10, batch_size=64, verbose=0)\n",
        "\n",
        "    testa_predictions = model.predict(np.array(testa_sentences_embeddings))\n",
        "\n",
        "    testa_predictions_flat = testa_predictions.flatten()\n",
        "    testa_labels_flat = np.array(testa_labels).flatten()\n",
        "\n",
        "    mask = testa_labels_flat != -1\n",
        "    filtered_predictions = testa_predictions_flat[mask]\n",
        "    filtered_labels = testa_labels_flat[mask]\n",
        "\n",
        "    predicted_classes = (filtered_predictions > 0.5).astype(int)\n",
        "\n",
        "    accuracy = accuracy_score(filtered_labels, predicted_classes)\n",
        "    precision = precision_score(filtered_labels, predicted_classes)\n",
        "    recall = recall_score(filtered_labels, predicted_classes)\n",
        "    f1 = f1_score(filtered_labels, predicted_classes)\n",
        "\n",
        "    print(f\"For {model_type} recurrent layers, we obtain: \")\n",
        "    print(\"Accuracy:\", accuracy)\n",
        "    print(\"Precision:\", precision)\n",
        "    print(\"Recall:\", recall)\n",
        "    print(\"F1 Score:\", f1)"
      ]
    },
    {
      "cell_type": "code",
      "execution_count": 120,
      "metadata": {},
      "outputs": [
        {
          "name": "stdout",
          "output_type": "stream",
          "text": [
            "\u001b[1m710/710\u001b[0m \u001b[32m━━━━━━━━━━━━━━━━━━━━\u001b[0m\u001b[37m\u001b[0m \u001b[1m4s\u001b[0m 5ms/step\n",
            "For RNN recurrent layers, we obtain: \n",
            "Accuracy: 0.9304589130552797\n",
            "Precision: 0.5138592750533049\n",
            "Recall: 0.15364998406120497\n",
            "F1 Score: 0.2365644171779141\n"
          ]
        }
      ],
      "source": [
        "assess_performance(\"RNN\")"
      ]
    },
    {
      "cell_type": "code",
      "execution_count": 121,
      "metadata": {},
      "outputs": [
        {
          "name": "stdout",
          "output_type": "stream",
          "text": [
            "\u001b[1m710/710\u001b[0m \u001b[32m━━━━━━━━━━━━━━━━━━━━\u001b[0m\u001b[37m\u001b[0m \u001b[1m7s\u001b[0m 10ms/step\n",
            "For LSTM recurrent layers, we obtain: \n",
            "Accuracy: 0.9358684093717767\n",
            "Precision: 0.6459694989106753\n",
            "Recall: 0.18903410902135798\n",
            "F1 Score: 0.29247842170160293\n"
          ]
        }
      ],
      "source": [
        "assess_performance(\"LSTM\")"
      ]
    },
    {
      "cell_type": "code",
      "execution_count": 122,
      "metadata": {},
      "outputs": [
        {
          "name": "stdout",
          "output_type": "stream",
          "text": [
            "\u001b[1m710/710\u001b[0m \u001b[32m━━━━━━━━━━━━━━━━━━━━\u001b[0m\u001b[37m\u001b[0m \u001b[1m5s\u001b[0m 7ms/step\n",
            "For GRU recurrent layers, we obtain: \n",
            "Accuracy: 0.9369637206094146\n",
            "Precision: 0.6237314597970336\n",
            "Recall: 0.25470194453299333\n",
            "F1 Score: 0.3617021276595745\n"
          ]
        }
      ],
      "source": [
        "assess_performance(\"GRU\")"
      ]
    },
    {
      "cell_type": "code",
      "execution_count": 123,
      "metadata": {},
      "outputs": [
        {
          "data": {
            "image/png": "[encoded data removed]",
            "text/plain": [
              "<Figure size 1400x1000 with 4 Axes>"
            ]
          },
          "metadata": {},
          "output_type": "display_data"
        },
        {
          "data": {
            "image/png": "[encoded data removed]",
            "text/plain": [
              "<Figure size 700x500 with 1 Axes>"
            ]
          },
          "metadata": {},
          "output_type": "display_data"
        }
      ],
      "source": [
        "models = ['RNN', 'LSTM', 'GRU']\n",
        "accuracy = [0.930, 0.935, 0.937]\n",
        "precision = [0.513, 0.645, 0.624]\n",
        "recall = [0.153, 0.189, 0.255]\n",
        "f1_score = [0.236, 0.292, 0.362]\n",
        "training_time = [3*60 + 56.2, 8*60 + 6.5, 8*60 + 12.7]  \n",
        "\n",
        "fig, axs = plt.subplots(2, 2, figsize=(14, 10))\n",
        "fig.suptitle('Performance Metrics and Training Time by Model Type')\n",
        "\n",
        "axs[0, 0].bar(models, accuracy, color='skyblue')\n",
        "axs[0, 0].set_title('Accuracy')\n",
        "axs[0, 0].set_ylim([0.9, 0.95])\n",
        "\n",
        "axs[0, 1].bar(models, precision, color='lightgreen')\n",
        "axs[0, 1].set_title('Precision')\n",
        "axs[0, 1].set_ylim([0.4, 0.7])\n",
        "\n",
        "axs[1, 0].bar(models, recall, color='salmon')\n",
        "axs[1, 0].set_title('Recall')\n",
        "axs[1, 0].set_ylim([0, 0.3])\n",
        "\n",
        "axs[1, 1].bar(models, f1_score, color='gold')\n",
        "axs[1, 1].set_title('F1 Score')\n",
        "axs[1, 1].set_ylim([0, 0.4])\n",
        "\n",
        "fig, ax = plt.subplots(figsize=(7, 5))\n",
        "ax.bar(models, training_time, color='violet')\n",
        "ax.set_title('Training Time (seconds)')\n",
        "ax.set_ylabel('Seconds')\n",
        "\n",
        "plt.tight_layout(rect=[0, 0.03, 1, 0.95])\n",
        "plt.show()\n"
      ]
    }
  ],
  "metadata": {
    "colab": {
      "provenance": []
    },
    "kernelspec": {
      "display_name": "ml",
      "language": "python",
      "name": "python3"
    },
    "language_info": {
      "codemirror_mode": {
        "name": "ipython",
        "version": 3
      },
      "file_extension": ".py",
      "mimetype": "text/x-python",
      "name": "python",
      "nbconvert_exporter": "python",
      "pygments_lexer": "ipython3",
      "version": "3.10.14"
    }
  },
  "nbformat": 4,
  "nbformat_minor": 0
}
